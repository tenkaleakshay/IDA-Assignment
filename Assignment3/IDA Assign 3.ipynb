{
 "cells": [
  {
   "cell_type": "code",
   "execution_count": 2,
   "metadata": {
    "collapsed": true
   },
   "outputs": [],
   "source": [
    "import pandas as pd \n",
    "import numpy as np\n",
    "import matplotlib.pyplot as plt\n",
    "from sklearn.tree import DecisionTreeClassifier\n",
    "from sklearn.model_selection import cross_val_score\n",
    "from IPython.display import Image  \n",
    "from sklearn.tree import export_graphviz\n",
    "import pydotplus\n",
    "import collections\n",
    "from sklearn import tree"
   ]
  },
  {
   "cell_type": "code",
   "execution_count": 3,
   "metadata": {
    "collapsed": true
   },
   "outputs": [],
   "source": [
    "dataBPC = pd.read_csv('/Volumes/Work/study/U Cincinnati/IDA/assignments/Assign 3/wpbc.csv', index_col='ID number') "
   ]
  },
  {
   "cell_type": "code",
   "execution_count": 4,
   "metadata": {},
   "outputs": [
    {
     "name": "stdout",
     "output_type": "stream",
     "text": [
      "<class 'pandas.core.frame.DataFrame'>\n",
      "Int64Index: 198 entries, 119513 to 947489\n",
      "Data columns (total 34 columns):\n",
      "Outcome                198 non-null object\n",
      "Time                   198 non-null int64\n",
      "radius 1               198 non-null float64\n",
      "texture 1              198 non-null float64\n",
      "perimeter 1            198 non-null float64\n",
      "area 1                 198 non-null float64\n",
      "smoothness 1           198 non-null float64\n",
      "compactness 1          198 non-null float64\n",
      "concavity 1            198 non-null float64\n",
      "concave points 1       198 non-null float64\n",
      "symmetry 1             198 non-null float64\n",
      "fractal dimension 1    198 non-null float64\n",
      "radius 2               198 non-null float64\n",
      "texture 2              198 non-null float64\n",
      "perimeter 2            198 non-null float64\n",
      "area 2                 198 non-null float64\n",
      "smoothness 2           198 non-null float64\n",
      "compactness 2          198 non-null float64\n",
      "concavity 2            198 non-null float64\n",
      "concave points 2       198 non-null float64\n",
      "symmetry 2             198 non-null float64\n",
      "fractal dimension 2    198 non-null float64\n",
      "radius 3               198 non-null float64\n",
      "texture 3              198 non-null float64\n",
      "perimeter 3            198 non-null float64\n",
      "area 3                 198 non-null float64\n",
      "smoothness 3           198 non-null float64\n",
      "compactness 3          198 non-null float64\n",
      "concavity 3            198 non-null float64\n",
      "concave points 3       198 non-null float64\n",
      "symmetry 3             198 non-null float64\n",
      "fractal dimension 3    198 non-null float64\n",
      "Tumor size             198 non-null float64\n",
      "Lymph node status      194 non-null float64\n",
      "dtypes: float64(32), int64(1), object(1)\n",
      "memory usage: 54.1+ KB\n"
     ]
    }
   ],
   "source": [
    "dataBPC.info()"
   ]
  },
  {
   "cell_type": "markdown",
   "metadata": {},
   "source": [
    "## Filling missing values"
   ]
  },
  {
   "cell_type": "code",
   "execution_count": 5,
   "metadata": {
    "collapsed": true
   },
   "outputs": [],
   "source": [
    "dataBPC['Lymph node status'].fillna(dataBPC['Lymph node status'].median(), inplace = True)"
   ]
  },
  {
   "cell_type": "code",
   "execution_count": 6,
   "metadata": {},
   "outputs": [
    {
     "data": {
      "text/plain": [
       "Outcome                0\n",
       "Time                   0\n",
       "radius 1               0\n",
       "texture 1              0\n",
       "perimeter 1            0\n",
       "area 1                 0\n",
       "smoothness 1           0\n",
       "compactness 1          0\n",
       "concavity 1            0\n",
       "concave points 1       0\n",
       "symmetry 1             0\n",
       "fractal dimension 1    0\n",
       "radius 2               0\n",
       "texture 2              0\n",
       "perimeter 2            0\n",
       "area 2                 0\n",
       "smoothness 2           0\n",
       "compactness 2          0\n",
       "concavity 2            0\n",
       "concave points 2       0\n",
       "symmetry 2             0\n",
       "fractal dimension 2    0\n",
       "radius 3               0\n",
       "texture 3              0\n",
       "perimeter 3            0\n",
       "area 3                 0\n",
       "smoothness 3           0\n",
       "compactness 3          0\n",
       "concavity 3            0\n",
       "concave points 3       0\n",
       "symmetry 3             0\n",
       "fractal dimension 3    0\n",
       "Tumor size             0\n",
       "Lymph node status      0\n",
       "dtype: int64"
      ]
     },
     "execution_count": 6,
     "metadata": {},
     "output_type": "execute_result"
    }
   ],
   "source": [
    "dataBPC.isnull().sum()"
   ]
  },
  {
   "cell_type": "markdown",
   "metadata": {},
   "source": [
    "# Question 1"
   ]
  },
  {
   "cell_type": "markdown",
   "metadata": {},
   "source": [
    "## Ignoring No. of Years (Time) atrribute"
   ]
  },
  {
   "cell_type": "code",
   "execution_count": 7,
   "metadata": {
    "collapsed": true
   },
   "outputs": [],
   "source": [
    "X1 = dataBPC.loc[:,'radius 1':'Lymph node status']\n",
    "y1 = dataBPC['Outcome']"
   ]
  },
  {
   "cell_type": "markdown",
   "metadata": {},
   "source": [
    "### 1 a)"
   ]
  },
  {
   "cell_type": "code",
   "execution_count": 8,
   "metadata": {},
   "outputs": [
    {
     "data": {
      "text/plain": [
       "array([ 0.68  ,  0.68  ,  0.6   ,  0.5625])"
      ]
     },
     "execution_count": 8,
     "metadata": {},
     "output_type": "execute_result"
    }
   ],
   "source": [
    "dt_clf = DecisionTreeClassifier(criterion='gini',splitter='best',min_samples_leaf=25, class_weight={'N':1,'R':2})\n",
    "score = cross_val_score(dt_clf, X1, y1, cv =4)\n",
    "score"
   ]
  },
  {
   "cell_type": "code",
   "execution_count": null,
   "metadata": {
    "collapsed": true
   },
   "outputs": [],
   "source": []
  },
  {
   "cell_type": "code",
   "execution_count": 9,
   "metadata": {},
   "outputs": [
    {
     "data": {
      "text/plain": [
       "array(['N', 'R', 'N', 'N', 'R', 'R', 'N', 'N', 'N', 'N', 'N', 'N', 'N',\n",
       "       'N', 'N', 'R', 'N', 'N', 'R', 'R', 'R', 'R', 'N', 'N', 'R', 'N',\n",
       "       'N', 'R', 'N', 'R', 'R', 'R', 'N', 'R', 'N', 'R', 'N', 'N', 'N',\n",
       "       'N', 'R', 'N', 'N', 'N', 'N', 'N', 'R', 'R', 'R', 'N', 'R', 'N',\n",
       "       'N', 'N', 'N', 'R', 'N', 'N', 'R', 'R', 'R', 'N', 'R', 'N', 'N',\n",
       "       'N', 'N', 'R', 'R', 'R', 'N', 'N', 'N', 'N', 'N', 'R', 'N', 'N',\n",
       "       'N', 'N', 'N', 'N', 'N', 'N', 'N', 'N', 'N', 'N', 'N', 'N', 'N',\n",
       "       'N', 'R', 'N', 'N', 'N', 'N', 'N', 'R', 'N', 'N', 'N', 'N', 'R',\n",
       "       'N', 'N', 'N', 'N', 'R', 'N', 'N', 'N', 'R', 'N', 'N', 'N', 'N',\n",
       "       'R', 'N', 'N', 'N', 'N', 'N', 'N', 'N', 'R', 'N', 'N', 'R', 'R',\n",
       "       'N', 'R', 'R', 'N', 'N', 'R', 'N', 'N', 'N', 'R', 'N', 'R', 'R',\n",
       "       'N', 'N', 'R', 'N', 'N', 'N', 'N', 'R', 'N', 'R', 'N', 'N', 'R',\n",
       "       'N', 'R', 'R', 'N', 'N', 'R', 'R', 'R', 'N', 'N', 'N', 'N', 'R',\n",
       "       'N', 'N', 'N', 'N', 'N', 'N', 'N', 'R', 'R', 'N', 'N', 'N', 'N',\n",
       "       'R', 'N', 'R', 'N', 'R', 'N', 'N', 'N', 'N', 'N', 'N', 'N', 'N',\n",
       "       'N', 'R', 'N'], dtype=object)"
      ]
     },
     "execution_count": 9,
     "metadata": {},
     "output_type": "execute_result"
    }
   ],
   "source": [
    "fit_clf = dt_clf.fit(X1,y1)\n",
    "fit_clf.predict(X1)"
   ]
  },
  {
   "cell_type": "code",
   "execution_count": 10,
   "metadata": {},
   "outputs": [
    {
     "data": {
      "image/png": "[encoded data removed]",
      "text/plain": [
       "<IPython.core.display.Image object>"
      ]
     },
     "execution_count": 10,
     "metadata": {},
     "output_type": "execute_result"
    }
   ],
   "source": [
    "%matplotlib inline\n",
    "dot_data = tree.export_graphviz(fit_clf,\n",
    "                                out_file=None,\n",
    "                                filled=True,\n",
    "                                rounded=True)\n",
    "graph = pydotplus.graph_from_dot_data(dot_data)\n",
    "  \n",
    "Image(graph.create_png())"
   ]
  },
  {
   "cell_type": "code",
   "execution_count": null,
   "metadata": {
    "collapsed": true
   },
   "outputs": [],
   "source": []
  },
  {
   "cell_type": "code",
   "execution_count": null,
   "metadata": {
    "collapsed": true
   },
   "outputs": [],
   "source": []
  },
  {
   "cell_type": "code",
   "execution_count": null,
   "metadata": {
    "collapsed": true
   },
   "outputs": [],
   "source": []
  },
  {
   "cell_type": "code",
   "execution_count": null,
   "metadata": {
    "collapsed": true
   },
   "outputs": [],
   "source": []
  },
  {
   "cell_type": "code",
   "execution_count": null,
   "metadata": {
    "collapsed": true
   },
   "outputs": [],
   "source": []
  },
  {
   "cell_type": "code",
   "execution_count": null,
   "metadata": {
    "collapsed": true
   },
   "outputs": [],
   "source": []
  },
  {
   "cell_type": "markdown",
   "metadata": {},
   "source": [
    "# Question 2"
   ]
  },
  {
   "cell_type": "markdown",
   "metadata": {},
   "source": [
    "### Selecting required features (ignoring the class attribute (R or N))"
   ]
  },
  {
   "cell_type": "code",
   "execution_count": 11,
   "metadata": {
    "collapsed": true
   },
   "outputs": [],
   "source": [
    "X2 = dataBPC.loc[:,'radius 1':'Lymph node status']\n",
    "y2 = dataBPC.loc[:,'Time']"
   ]
  },
  {
   "cell_type": "code",
   "execution_count": 12,
   "metadata": {},
   "outputs": [
    {
     "data": {
      "text/html": [
       "<div>\n",
       "<style>\n",
       "    .dataframe thead tr:only-child th {\n",
       "        text-align: right;\n",
       "    }\n",
       "\n",
       "    .dataframe thead th {\n",
       "        text-align: left;\n",
       "    }\n",
       "\n",
       "    .dataframe tbody tr th {\n",
       "        vertical-align: top;\n",
       "    }\n",
       "</style>\n",
       "<table border=\"1\" class=\"dataframe\">\n",
       "  <thead>\n",
       "    <tr style=\"text-align: right;\">\n",
       "      <th></th>\n",
       "      <th>radius 1</th>\n",
       "      <th>texture 1</th>\n",
       "      <th>perimeter 1</th>\n",
       "      <th>area 1</th>\n",
       "      <th>smoothness 1</th>\n",
       "      <th>compactness 1</th>\n",
       "      <th>concavity 1</th>\n",
       "      <th>concave points 1</th>\n",
       "      <th>symmetry 1</th>\n",
       "      <th>fractal dimension 1</th>\n",
       "      <th>...</th>\n",
       "      <th>perimeter 3</th>\n",
       "      <th>area 3</th>\n",
       "      <th>smoothness 3</th>\n",
       "      <th>compactness 3</th>\n",
       "      <th>concavity 3</th>\n",
       "      <th>concave points 3</th>\n",
       "      <th>symmetry 3</th>\n",
       "      <th>fractal dimension 3</th>\n",
       "      <th>Tumor size</th>\n",
       "      <th>Lymph node status</th>\n",
       "    </tr>\n",
       "    <tr>\n",
       "      <th>ID number</th>\n",
       "      <th></th>\n",
       "      <th></th>\n",
       "      <th></th>\n",
       "      <th></th>\n",
       "      <th></th>\n",
       "      <th></th>\n",
       "      <th></th>\n",
       "      <th></th>\n",
       "      <th></th>\n",
       "      <th></th>\n",
       "      <th></th>\n",
       "      <th></th>\n",
       "      <th></th>\n",
       "      <th></th>\n",
       "      <th></th>\n",
       "      <th></th>\n",
       "      <th></th>\n",
       "      <th></th>\n",
       "      <th></th>\n",
       "      <th></th>\n",
       "      <th></th>\n",
       "    </tr>\n",
       "  </thead>\n",
       "  <tbody>\n",
       "    <tr>\n",
       "      <th>119513</th>\n",
       "      <td>18.02</td>\n",
       "      <td>27.60</td>\n",
       "      <td>117.50</td>\n",
       "      <td>1013.0</td>\n",
       "      <td>0.09489</td>\n",
       "      <td>0.1036</td>\n",
       "      <td>0.1086</td>\n",
       "      <td>0.07055</td>\n",
       "      <td>0.1865</td>\n",
       "      <td>0.06333</td>\n",
       "      <td>...</td>\n",
       "      <td>139.70</td>\n",
       "      <td>1436.0</td>\n",
       "      <td>0.1195</td>\n",
       "      <td>0.1926</td>\n",
       "      <td>0.3140</td>\n",
       "      <td>0.1170</td>\n",
       "      <td>0.2677</td>\n",
       "      <td>0.08113</td>\n",
       "      <td>5.0</td>\n",
       "      <td>5.0</td>\n",
       "    </tr>\n",
       "    <tr>\n",
       "      <th>8423</th>\n",
       "      <td>17.99</td>\n",
       "      <td>10.38</td>\n",
       "      <td>122.80</td>\n",
       "      <td>1001.0</td>\n",
       "      <td>0.11840</td>\n",
       "      <td>0.2776</td>\n",
       "      <td>0.3001</td>\n",
       "      <td>0.14710</td>\n",
       "      <td>0.2419</td>\n",
       "      <td>0.07871</td>\n",
       "      <td>...</td>\n",
       "      <td>184.60</td>\n",
       "      <td>2019.0</td>\n",
       "      <td>0.1622</td>\n",
       "      <td>0.6656</td>\n",
       "      <td>0.7119</td>\n",
       "      <td>0.2654</td>\n",
       "      <td>0.4601</td>\n",
       "      <td>0.11890</td>\n",
       "      <td>3.0</td>\n",
       "      <td>2.0</td>\n",
       "    </tr>\n",
       "    <tr>\n",
       "      <th>842517</th>\n",
       "      <td>21.37</td>\n",
       "      <td>17.44</td>\n",
       "      <td>137.50</td>\n",
       "      <td>1373.0</td>\n",
       "      <td>0.08836</td>\n",
       "      <td>0.1189</td>\n",
       "      <td>0.1255</td>\n",
       "      <td>0.08180</td>\n",
       "      <td>0.2333</td>\n",
       "      <td>0.06010</td>\n",
       "      <td>...</td>\n",
       "      <td>159.10</td>\n",
       "      <td>1949.0</td>\n",
       "      <td>0.1188</td>\n",
       "      <td>0.3449</td>\n",
       "      <td>0.3414</td>\n",
       "      <td>0.2032</td>\n",
       "      <td>0.4334</td>\n",
       "      <td>0.09067</td>\n",
       "      <td>2.5</td>\n",
       "      <td>0.0</td>\n",
       "    </tr>\n",
       "    <tr>\n",
       "      <th>843483</th>\n",
       "      <td>11.42</td>\n",
       "      <td>20.38</td>\n",
       "      <td>77.58</td>\n",
       "      <td>386.1</td>\n",
       "      <td>0.14250</td>\n",
       "      <td>0.2839</td>\n",
       "      <td>0.2414</td>\n",
       "      <td>0.10520</td>\n",
       "      <td>0.2597</td>\n",
       "      <td>0.09744</td>\n",
       "      <td>...</td>\n",
       "      <td>98.87</td>\n",
       "      <td>567.7</td>\n",
       "      <td>0.2098</td>\n",
       "      <td>0.8663</td>\n",
       "      <td>0.6869</td>\n",
       "      <td>0.2575</td>\n",
       "      <td>0.6638</td>\n",
       "      <td>0.17300</td>\n",
       "      <td>2.0</td>\n",
       "      <td>0.0</td>\n",
       "    </tr>\n",
       "    <tr>\n",
       "      <th>843584</th>\n",
       "      <td>20.29</td>\n",
       "      <td>14.34</td>\n",
       "      <td>135.10</td>\n",
       "      <td>1297.0</td>\n",
       "      <td>0.10030</td>\n",
       "      <td>0.1328</td>\n",
       "      <td>0.1980</td>\n",
       "      <td>0.10430</td>\n",
       "      <td>0.1809</td>\n",
       "      <td>0.05883</td>\n",
       "      <td>...</td>\n",
       "      <td>152.20</td>\n",
       "      <td>1575.0</td>\n",
       "      <td>0.1374</td>\n",
       "      <td>0.2050</td>\n",
       "      <td>0.4000</td>\n",
       "      <td>0.1625</td>\n",
       "      <td>0.2364</td>\n",
       "      <td>0.07678</td>\n",
       "      <td>3.5</td>\n",
       "      <td>0.0</td>\n",
       "    </tr>\n",
       "  </tbody>\n",
       "</table>\n",
       "<p>5 rows × 32 columns</p>\n",
       "</div>"
      ],
      "text/plain": [
       "           radius 1  texture 1  perimeter 1  area 1  smoothness 1  \\\n",
       "ID number                                                           \n",
       "119513        18.02      27.60       117.50  1013.0       0.09489   \n",
       "8423          17.99      10.38       122.80  1001.0       0.11840   \n",
       "842517        21.37      17.44       137.50  1373.0       0.08836   \n",
       "843483        11.42      20.38        77.58   386.1       0.14250   \n",
       "843584        20.29      14.34       135.10  1297.0       0.10030   \n",
       "\n",
       "           compactness 1  concavity 1  concave points 1  symmetry 1  \\\n",
       "ID number                                                             \n",
       "119513            0.1036       0.1086           0.07055      0.1865   \n",
       "8423              0.2776       0.3001           0.14710      0.2419   \n",
       "842517            0.1189       0.1255           0.08180      0.2333   \n",
       "843483            0.2839       0.2414           0.10520      0.2597   \n",
       "843584            0.1328       0.1980           0.10430      0.1809   \n",
       "\n",
       "           fractal dimension 1        ...          perimeter 3  area 3  \\\n",
       "ID number                             ...                                \n",
       "119513                 0.06333        ...               139.70  1436.0   \n",
       "8423                   0.07871        ...               184.60  2019.0   \n",
       "842517                 0.06010        ...               159.10  1949.0   \n",
       "843483                 0.09744        ...                98.87   567.7   \n",
       "843584                 0.05883        ...               152.20  1575.0   \n",
       "\n",
       "           smoothness 3  compactness 3  concavity 3  concave points 3  \\\n",
       "ID number                                                               \n",
       "119513           0.1195         0.1926       0.3140            0.1170   \n",
       "8423             0.1622         0.6656       0.7119            0.2654   \n",
       "842517           0.1188         0.3449       0.3414            0.2032   \n",
       "843483           0.2098         0.8663       0.6869            0.2575   \n",
       "843584           0.1374         0.2050       0.4000            0.1625   \n",
       "\n",
       "           symmetry 3  fractal dimension 3  Tumor size  Lymph node status  \n",
       "ID number                                                                  \n",
       "119513         0.2677              0.08113         5.0                5.0  \n",
       "8423           0.4601              0.11890         3.0                2.0  \n",
       "842517         0.4334              0.09067         2.5                0.0  \n",
       "843483         0.6638              0.17300         2.0                0.0  \n",
       "843584         0.2364              0.07678         3.5                0.0  \n",
       "\n",
       "[5 rows x 32 columns]"
      ]
     },
     "execution_count": 12,
     "metadata": {},
     "output_type": "execute_result"
    }
   ],
   "source": [
    "X2.head()"
   ]
  },
  {
   "cell_type": "code",
   "execution_count": 13,
   "metadata": {},
   "outputs": [
    {
     "data": {
      "text/plain": [
       "ID number\n",
       "119513     31\n",
       "8423       61\n",
       "842517    116\n",
       "843483    123\n",
       "843584     27\n",
       "Name: Time, dtype: int64"
      ]
     },
     "execution_count": 13,
     "metadata": {},
     "output_type": "execute_result"
    }
   ],
   "source": [
    "y2.head()"
   ]
  },
  {
   "cell_type": "markdown",
   "metadata": {},
   "source": [
    "## 2 a) Spliting data in training set and test set"
   ]
  },
  {
   "cell_type": "code",
   "execution_count": 14,
   "metadata": {
    "collapsed": true
   },
   "outputs": [],
   "source": [
    "X2_train, X2_test, y2_train, y2_test = X2[:132], X2[132:], y2[:132], y2[132:]"
   ]
  },
  {
   "cell_type": "code",
   "execution_count": 15,
   "metadata": {},
   "outputs": [
    {
     "name": "stdout",
     "output_type": "stream",
     "text": [
      "average number of disease-free years 58.833333333333336\n"
     ]
    }
   ],
   "source": [
    "avgYears = y2_train.mean()   # calculating average number of disease-free years \n",
    "print('average number of disease-free years ' + str(avgYears))"
   ]
  },
  {
   "cell_type": "markdown",
   "metadata": {},
   "source": [
    "### Calculating MSE"
   ]
  },
  {
   "cell_type": "code",
   "execution_count": 16,
   "metadata": {
    "collapsed": true
   },
   "outputs": [],
   "source": [
    "def MSE(y,avg):\n",
    "    MSEValue = ((y - avg)**2).mean()\n",
    "    return MSEValue"
   ]
  },
  {
   "cell_type": "code",
   "execution_count": 17,
   "metadata": {},
   "outputs": [
    {
     "name": "stdout",
     "output_type": "stream",
     "text": [
      "MSE for training set: \t1183.9419191919192\n"
     ]
    }
   ],
   "source": [
    "trainMSE = MSE(y2_train,avgYears)\n",
    "print('MSE for training set: \\t' + str(trainMSE))"
   ]
  },
  {
   "cell_type": "code",
   "execution_count": 18,
   "metadata": {},
   "outputs": [
    {
     "name": "stdout",
     "output_type": "stream",
     "text": [
      "MSE for testing set: \t1616.4924242424247\n"
     ]
    }
   ],
   "source": [
    "testMSE = MSE(y2_test,avgYears)\n",
    "print('MSE for testing set: \\t' + str(testMSE))"
   ]
  },
  {
   "cell_type": "markdown",
   "metadata": {},
   "source": [
    "## 2b) Making function for correlation"
   ]
  },
  {
   "cell_type": "code",
   "execution_count": 19,
   "metadata": {
    "collapsed": true
   },
   "outputs": [],
   "source": [
    "def correlation(x1,x2):    \n",
    "    meanAttr1 = x1.mean()\n",
    "    meanAttr2 = x2.mean()\n",
    "    corr1 = ((x1 - meanAttr1)*(x2 - meanAttr2)).sum()\n",
    "    corr2 = ((((x1 - meanAttr1)**2).sum())*(((x2 - meanAttr2)**2).sum()))**(1/2)\n",
    "    corr = corr1/corr2\n",
    "    return corr\n"
   ]
  },
  {
   "cell_type": "code",
   "execution_count": 20,
   "metadata": {
    "collapsed": true
   },
   "outputs": [],
   "source": [
    "def correlationCheck(X,y):\n",
    "    corrAllFeatures = []\n",
    "    features = X.keys()\n",
    "    for i in features:\n",
    "        corre = correlation(X[i], y)\n",
    "        corrAllFeatures.append(abs(corre))\n",
    "        print('Correlation of output with ' + i +'\\t\\t'+ str(corre))\n",
    "    return corrAllFeatures"
   ]
  },
  {
   "cell_type": "code",
   "execution_count": 21,
   "metadata": {},
   "outputs": [],
   "source": [
    "featuresToCheck = ['radius 1', 'texture 1', 'perimeter 1', 'area 1 ', 'smoothness 1',\n",
    "       'compactness 1', 'concavity 1', 'concave points 1', 'symmetry 1',\n",
    "       'fractal dimension 1', 'radius 2', 'texture 2', 'perimeter 2', 'area 2',\n",
    "       'smoothness 2', 'compactness 2', 'concavity 2', 'concave points 2',\n",
    "       'symmetry 2', 'fractal dimension 2', 'radius 3', 'texture 3 ',\n",
    "       'perimeter 3', 'area 3', 'smoothness 3', 'compactness 3', 'concavity 3',\n",
    "       'concave points 3', 'symmetry 3', 'fractal dimension 3', 'Tumor size',\n",
    "       'Lymph node status']"
   ]
  },
  {
   "cell_type": "markdown",
   "metadata": {},
   "source": [
    "## Initiating a structure for saving tree"
   ]
  },
  {
   "cell_type": "code",
   "execution_count": 22,
   "metadata": {
    "collapsed": true
   },
   "outputs": [],
   "source": [
    "class Tree(object):\n",
    "    def __init__(self,name):\n",
    "        self.name = name\n",
    "        self.left = None\n",
    "        self.right = None\n",
    "        self.data = None"
   ]
  },
  {
   "cell_type": "code",
   "execution_count": 23,
   "metadata": {
    "collapsed": true
   },
   "outputs": [],
   "source": [
    "t_1 = Tree('t_1')  # defining the root node"
   ]
  },
  {
   "cell_type": "markdown",
   "metadata": {},
   "source": [
    "## Spliting root node 1(X_train) to get 1a and 1b\n",
    "### Calculating Correlation of all featuers with 'no. of desease free years'"
   ]
  },
  {
   "cell_type": "code",
   "execution_count": 24,
   "metadata": {},
   "outputs": [
    {
     "name": "stdout",
     "output_type": "stream",
     "text": [
      "Correlation of output with radius 1\t\t-0.3646604075150667\n",
      "Correlation of output with texture 1\t\t-0.1302759028465298\n",
      "Correlation of output with perimeter 1\t\t-0.37330876008058334\n",
      "Correlation of output with area 1\t\t-0.36933189005221195\n",
      "Correlation of output with smoothness 1\t\t0.13208365897275284\n",
      "Correlation of output with compactness 1\t\t-0.045900250285935716\n",
      "Correlation of output with concavity 1\t\t-0.16806454500699036\n",
      "Correlation of output with concave points 1\t\t-0.21425175736946708\n",
      "Correlation of output with symmetry 1\t\t0.094061607123029\n",
      "Correlation of output with fractal dimension 1\t\t0.2604458863493912\n",
      "Correlation of output with radius 2\t\t-0.2386906695227489\n",
      "Correlation of output with texture 2\t\t-0.16824732375961687\n",
      "Correlation of output with perimeter 2\t\t-0.26033353594356895\n",
      "Correlation of output with area 2\t\t-0.27242857993022745\n",
      "Correlation of output with smoothness 2\t\t0.023284766460944985\n",
      "Correlation of output with compactness 2\t\t-0.06945706058214933\n",
      "Correlation of output with concavity 2\t\t-0.08350286730049798\n",
      "Correlation of output with concave points 2\t\t-0.07635596193720588\n",
      "Correlation of output with symmetry 2\t\t-0.03835300757001643\n",
      "Correlation of output with fractal dimension 2\t\t0.07786555532854299\n",
      "Correlation of output with radius 3\t\t-0.3271291179037726\n",
      "Correlation of output with texture 3\t\t-0.07430582672124257\n",
      "Correlation of output with perimeter 3\t\t-0.3493945339055111\n",
      "Correlation of output with area 3\t\t-0.3183282732171891\n",
      "Correlation of output with smoothness 3\t\t0.15017642788074081\n",
      "Correlation of output with compactness 3\t\t0.02688770910326868\n",
      "Correlation of output with concavity 3\t\t-0.02346950511319436\n",
      "Correlation of output with concave points 3\t\t-0.09644312464960686\n",
      "Correlation of output with symmetry 3\t\t0.12063466314246496\n",
      "Correlation of output with fractal dimension 3\t\t0.2361623060806346\n",
      "Correlation of output with Tumor size\t\t-0.1850638902461592\n",
      "Correlation of output with Lymph node status\t\t-0.1661969176483848\n"
     ]
    }
   ],
   "source": [
    "correlationList = correlationCheck(X2_train,y2_train)"
   ]
  },
  {
   "cell_type": "markdown",
   "metadata": {},
   "source": [
    "### Finding feature with max correlation"
   ]
  },
  {
   "cell_type": "code",
   "execution_count": 25,
   "metadata": {},
   "outputs": [
    {
     "name": "stdout",
     "output_type": "stream",
     "text": [
      "Maximun correlated feature is: \tperimeter 1\n"
     ]
    }
   ],
   "source": [
    "maxFeatureIndex = correlationList.index(max(correlationList))\n",
    "maxFeature = featuresToCheck[maxFeatureIndex]\n",
    "print('Maximun correlated feature is: \\t' + maxFeature)"
   ]
  },
  {
   "cell_type": "markdown",
   "metadata": {},
   "source": [
    "### splitting according to 'perimeter 1'"
   ]
  },
  {
   "cell_type": "code",
   "execution_count": 26,
   "metadata": {},
   "outputs": [
    {
     "name": "stdout",
     "output_type": "stream",
     "text": [
      "Median value for spliting feature:110.05\n"
     ]
    }
   ],
   "source": [
    "medianVal = X2_train['perimeter 1'].median()    # split point\n",
    "print('Median value for spliting feature:' + str(medianVal))"
   ]
  },
  {
   "cell_type": "code",
   "execution_count": 27,
   "metadata": {
    "collapsed": true
   },
   "outputs": [],
   "source": [
    "X2_train_split_1a = X2_train[X2_train['perimeter 1'] > medianVal]\n",
    "X2_train_split_1b = X2_train[X2_train['perimeter 1'] <= medianVal]\n",
    "y2_train_split_1a = y2_train[X2_train['perimeter 1'] > medianVal]\n",
    "y2_train_split_1b = y2_train[X2_train['perimeter 1'] <= medianVal]"
   ]
  },
  {
   "cell_type": "code",
   "execution_count": 28,
   "metadata": {},
   "outputs": [
    {
     "data": {
      "text/plain": [
       "(66, 32)"
      ]
     },
     "execution_count": 28,
     "metadata": {},
     "output_type": "execute_result"
    }
   ],
   "source": [
    "X2_train_split_1a.shape  #shape of left child"
   ]
  },
  {
   "cell_type": "code",
   "execution_count": 29,
   "metadata": {},
   "outputs": [
    {
     "data": {
      "text/plain": [
       "(66, 32)"
      ]
     },
     "execution_count": 29,
     "metadata": {},
     "output_type": "execute_result"
    }
   ],
   "source": [
    "X2_train_split_1b.shape   #shape of right child"
   ]
  },
  {
   "cell_type": "markdown",
   "metadata": {},
   "source": [
    "### Calculating MSE of node 1a & 1b"
   ]
  },
  {
   "cell_type": "code",
   "execution_count": 30,
   "metadata": {},
   "outputs": [
    {
     "name": "stdout",
     "output_type": "stream",
     "text": [
      "MSE for node 1a: \t933.3785583103765\n"
     ]
    }
   ],
   "source": [
    "trainMSE_split_1a = MSE(y2_train_split_1a,y2_train_split_1a.mean())\n",
    "print('MSE for node 1a: \\t' +str(trainMSE_split_1a))"
   ]
  },
  {
   "cell_type": "code",
   "execution_count": 31,
   "metadata": {},
   "outputs": [
    {
     "name": "stdout",
     "output_type": "stream",
     "text": [
      "MSE for node 1b: \t1170.7017906336087\n"
     ]
    }
   ],
   "source": [
    "trainMSE_split_1b = MSE(y2_train_split_1b,y2_train_split_1b.mean())\n",
    "print('MSE for node 1b: \\t' +str(trainMSE_split_1b))"
   ]
  },
  {
   "cell_type": "markdown",
   "metadata": {},
   "source": [
    "### Saving the childs in tree"
   ]
  },
  {
   "cell_type": "code",
   "execution_count": 32,
   "metadata": {
    "collapsed": true
   },
   "outputs": [],
   "source": [
    "t_1.data = [maxFeature, medianVal]\n",
    "t_1a = Tree('1a')\n",
    "t_1.left = t_1a\n",
    "t_1b = Tree('1b')\n",
    "t_1.right = t_1b"
   ]
  },
  {
   "cell_type": "markdown",
   "metadata": {},
   "source": [
    "## 2c) Repeating the steps\n",
    "### Furthur spliting node 1a"
   ]
  },
  {
   "cell_type": "code",
   "execution_count": 33,
   "metadata": {},
   "outputs": [
    {
     "name": "stdout",
     "output_type": "stream",
     "text": [
      "Correlation of output with radius 1\t\t-0.2690373629728443\n",
      "Correlation of output with texture 1\t\t-0.14413519229752597\n",
      "Correlation of output with perimeter 1\t\t-0.3007033263512784\n",
      "Correlation of output with area 1\t\t-0.2823173096054564\n",
      "Correlation of output with smoothness 1\t\t-0.024160691628605777\n",
      "Correlation of output with compactness 1\t\t-0.13618786643286265\n",
      "Correlation of output with concavity 1\t\t-0.15039887611197222\n",
      "Correlation of output with concave points 1\t\t-0.14828815269495804\n",
      "Correlation of output with symmetry 1\t\t0.13220514208677442\n",
      "Correlation of output with fractal dimension 1\t\t0.17049731650428407\n",
      "Correlation of output with radius 2\t\t-0.08987998680712486\n",
      "Correlation of output with texture 2\t\t-0.2593290913401531\n",
      "Correlation of output with perimeter 2\t\t-0.14006457869243874\n",
      "Correlation of output with area 2\t\t-0.12336178009164273\n",
      "Correlation of output with smoothness 2\t\t0.038205895309628195\n",
      "Correlation of output with compactness 2\t\t-0.1876831371241239\n",
      "Correlation of output with concavity 2\t\t-0.1017685663016682\n",
      "Correlation of output with concave points 2\t\t0.05225848680409694\n",
      "Correlation of output with symmetry 2\t\t-0.054362737832791934\n",
      "Correlation of output with fractal dimension 2\t\t0.05043893685231668\n",
      "Correlation of output with radius 3\t\t-0.2537361964536219\n",
      "Correlation of output with texture 3\t\t-0.19727423814162973\n",
      "Correlation of output with perimeter 3\t\t-0.31100136308704335\n",
      "Correlation of output with area 3\t\t-0.23506558713794626\n",
      "Correlation of output with smoothness 3\t\t-0.05719812596525723\n",
      "Correlation of output with compactness 3\t\t-0.20834174533113986\n",
      "Correlation of output with concavity 3\t\t-0.22522645206155462\n",
      "Correlation of output with concave points 3\t\t-0.15012368782327315\n",
      "Correlation of output with symmetry 3\t\t-0.03405736898807066\n",
      "Correlation of output with fractal dimension 3\t\t0.06386141942165305\n",
      "Correlation of output with Tumor size\t\t-0.04166315604621491\n",
      "Correlation of output with Lymph node status\t\t-0.08605057999109879\n"
     ]
    }
   ],
   "source": [
    "correlationList = correlationCheck(X2_train_split_1a,y2_train_split_1a)"
   ]
  },
  {
   "cell_type": "markdown",
   "metadata": {},
   "source": [
    "### Finding feature with max correlation"
   ]
  },
  {
   "cell_type": "code",
   "execution_count": 34,
   "metadata": {},
   "outputs": [
    {
     "name": "stdout",
     "output_type": "stream",
     "text": [
      "Maximun correlated feature is: \tperimeter 3\n"
     ]
    }
   ],
   "source": [
    "maxFeatureIndex = correlationList.index(max(correlationList))\n",
    "maxFeature = featuresToCheck[maxFeatureIndex]\n",
    "print('Maximun correlated feature is: \\t' + maxFeature)"
   ]
  },
  {
   "cell_type": "markdown",
   "metadata": {},
   "source": [
    "### splitting according to 'perimeter 3'"
   ]
  },
  {
   "cell_type": "code",
   "execution_count": 35,
   "metadata": {},
   "outputs": [
    {
     "name": "stdout",
     "output_type": "stream",
     "text": [
      "Median value for spliting feature:157.6\n"
     ]
    }
   ],
   "source": [
    "medianVal = X2_train_split_1a['perimeter 3'].median()    # split point\n",
    "print('Median value for spliting feature:' + str(medianVal))"
   ]
  },
  {
   "cell_type": "code",
   "execution_count": 36,
   "metadata": {
    "collapsed": true
   },
   "outputs": [],
   "source": [
    "X2_train_split_1a_2a = X2_train_split_1a[X2_train_split_1a['perimeter 3'] > medianVal]\n",
    "X2_train_split_1a_2b = X2_train_split_1a[X2_train_split_1a['perimeter 3'] <= medianVal]\n",
    "y2_train_split_1a_2a = y2_train_split_1a[X2_train_split_1a['perimeter 3'] > medianVal]\n",
    "y2_train_split_1a_2b = y2_train_split_1a[X2_train_split_1a['perimeter 3'] <= medianVal]"
   ]
  },
  {
   "cell_type": "code",
   "execution_count": 37,
   "metadata": {},
   "outputs": [
    {
     "data": {
      "text/plain": [
       "(32, 32)"
      ]
     },
     "execution_count": 37,
     "metadata": {},
     "output_type": "execute_result"
    }
   ],
   "source": [
    "X2_train_split_1a_2a.shape    #shape of left child"
   ]
  },
  {
   "cell_type": "code",
   "execution_count": 38,
   "metadata": {},
   "outputs": [
    {
     "data": {
      "text/plain": [
       "(34, 32)"
      ]
     },
     "execution_count": 38,
     "metadata": {},
     "output_type": "execute_result"
    }
   ],
   "source": [
    "X2_train_split_1a_2b.shape    #shape of right child"
   ]
  },
  {
   "cell_type": "markdown",
   "metadata": {},
   "source": [
    "### Calculating MSE for nodes 1a_2a  & 1a_2b"
   ]
  },
  {
   "cell_type": "code",
   "execution_count": 39,
   "metadata": {},
   "outputs": [
    {
     "name": "stdout",
     "output_type": "stream",
     "text": [
      "MSE for node 1a_2a: \t815.3349609375\n"
     ]
    }
   ],
   "source": [
    "trainMSE_split_1a_2a = MSE(y2_train_split_1a_2a, y2_train_split_1a_2a.mean())\n",
    "print('MSE for node 1a_2a: \\t' +str(trainMSE_split_1a_2a))"
   ]
  },
  {
   "cell_type": "code",
   "execution_count": 40,
   "metadata": {},
   "outputs": [
    {
     "name": "stdout",
     "output_type": "stream",
     "text": [
      "MSE for node 1a_2b: \t845.262975778547\n"
     ]
    }
   ],
   "source": [
    "trainMSE_split_1a_2b = MSE(y2_train_split_1a_2b, y2_train_split_1a_2b.mean())\n",
    "print('MSE for node 1a_2b: \\t' +str(trainMSE_split_1a_2b))"
   ]
  },
  {
   "cell_type": "markdown",
   "metadata": {},
   "source": [
    "### No need to expand any child as MSE of both < 900"
   ]
  },
  {
   "cell_type": "markdown",
   "metadata": {},
   "source": [
    "### Saving the childs in tree"
   ]
  },
  {
   "cell_type": "code",
   "execution_count": 41,
   "metadata": {
    "collapsed": true
   },
   "outputs": [],
   "source": [
    "t_1a.data = [maxFeature, medianVal]\n",
    "t_1a_2a = Tree('1a_2a')\n",
    "t_1a.left = t_1a_2a\n",
    "t_1a_2a.data = [y2_train_split_1a_2a.mean(), y2_train_split_1a_2a]    # saving the mean value in leaf node\n",
    "t_1a_2b = Tree('1a_2b')\n",
    "t_1a.right = t_1a_2b\n",
    "t_1a_2b.data = [y2_train_split_1a_2b.mean(), y2_train_split_1a_2b]    # saving the mean value in leaf node"
   ]
  },
  {
   "cell_type": "markdown",
   "metadata": {},
   "source": [
    "# Spliting node 1b"
   ]
  },
  {
   "cell_type": "code",
   "execution_count": 42,
   "metadata": {},
   "outputs": [
    {
     "name": "stdout",
     "output_type": "stream",
     "text": [
      "Correlation of output with radius 1\t\t-0.046325597398544784\n",
      "Correlation of output with texture 1\t\t-0.010510713125853026\n",
      "Correlation of output with perimeter 1\t\t-0.04229064108871293\n",
      "Correlation of output with area 1\t\t-0.03643939886925064\n",
      "Correlation of output with smoothness 1\t\t0.14235642692476075\n",
      "Correlation of output with compactness 1\t\t0.07787549581932697\n",
      "Correlation of output with concavity 1\t\t0.02544278119774275\n",
      "Correlation of output with concave points 1\t\t0.045365917035214635\n",
      "Correlation of output with symmetry 1\t\t0.07027672874453575\n",
      "Correlation of output with fractal dimension 1\t\t0.13628369604851492\n",
      "Correlation of output with radius 2\t\t-0.06017116052351698\n",
      "Correlation of output with texture 2\t\t-0.03263896661305459\n",
      "Correlation of output with perimeter 2\t\t-0.07195784089528633\n",
      "Correlation of output with area 2\t\t-0.029447621366455824\n",
      "Correlation of output with smoothness 2\t\t0.05553411346534128\n",
      "Correlation of output with compactness 2\t\t0.05171229515118508\n",
      "Correlation of output with concavity 2\t\t0.016281303981850636\n",
      "Correlation of output with concave points 2\t\t-0.06926948487479875\n",
      "Correlation of output with symmetry 2\t\t0.01974376888311041\n",
      "Correlation of output with fractal dimension 2\t\t0.11672990878439675\n",
      "Correlation of output with radius 3\t\t0.05545336561273368\n",
      "Correlation of output with texture 3\t\t0.028375047691849075\n",
      "Correlation of output with perimeter 3\t\t0.0376611644070959\n",
      "Correlation of output with area 3\t\t0.06371333939781973\n",
      "Correlation of output with smoothness 3\t\t0.11236346401161741\n",
      "Correlation of output with compactness 3\t\t0.10271537519533713\n",
      "Correlation of output with concavity 3\t\t0.10740910562961878\n",
      "Correlation of output with concave points 3\t\t0.1281949927096889\n",
      "Correlation of output with symmetry 3\t\t0.1728832398607115\n",
      "Correlation of output with fractal dimension 3\t\t0.16622800411053998\n",
      "Correlation of output with Tumor size\t\t-0.1799487107734064\n",
      "Correlation of output with Lymph node status\t\t-0.16824886311229073\n"
     ]
    }
   ],
   "source": [
    "correlationList = correlationCheck(X2_train_split_1b,y2_train_split_1b)"
   ]
  },
  {
   "cell_type": "markdown",
   "metadata": {},
   "source": [
    "### Finding feature with max correlation"
   ]
  },
  {
   "cell_type": "code",
   "execution_count": 43,
   "metadata": {},
   "outputs": [
    {
     "name": "stdout",
     "output_type": "stream",
     "text": [
      "Maximun correlated feature is: \tTumor size\n"
     ]
    }
   ],
   "source": [
    "maxFeatureIndex = correlationList.index(max(correlationList))\n",
    "maxFeature = featuresToCheck[maxFeatureIndex]\n",
    "print('Maximun correlated feature is: \\t' + maxFeature)"
   ]
  },
  {
   "cell_type": "markdown",
   "metadata": {},
   "source": [
    "### splitting according to 'Tumor size'"
   ]
  },
  {
   "cell_type": "code",
   "execution_count": 44,
   "metadata": {},
   "outputs": [
    {
     "name": "stdout",
     "output_type": "stream",
     "text": [
      "Median value for spliting feature: \t1.95\n"
     ]
    }
   ],
   "source": [
    "medianVal = X2_train_split_1b['Tumor size'].median()    # split point\n",
    "print('Median value for spliting feature: \\t' + str(medianVal))"
   ]
  },
  {
   "cell_type": "code",
   "execution_count": 45,
   "metadata": {
    "collapsed": true
   },
   "outputs": [],
   "source": [
    "X2_train_split_1b_2c = X2_train_split_1b[X2_train_split_1b['Tumor size'] > medianVal]\n",
    "X2_train_split_1b_2d = X2_train_split_1b[X2_train_split_1b['Tumor size'] <= medianVal]\n",
    "y2_train_split_1b_2c = y2_train_split_1b[X2_train_split_1b['Tumor size'] > medianVal]\n",
    "y2_train_split_1b_2d = y2_train_split_1b[X2_train_split_1b['Tumor size'] <= medianVal]"
   ]
  },
  {
   "cell_type": "code",
   "execution_count": 46,
   "metadata": {},
   "outputs": [
    {
     "data": {
      "text/plain": [
       "(33, 32)"
      ]
     },
     "execution_count": 46,
     "metadata": {},
     "output_type": "execute_result"
    }
   ],
   "source": [
    "X2_train_split_1b_2c.shape    #shape of left child"
   ]
  },
  {
   "cell_type": "code",
   "execution_count": 47,
   "metadata": {},
   "outputs": [
    {
     "data": {
      "text/plain": [
       "(33, 32)"
      ]
     },
     "execution_count": 47,
     "metadata": {},
     "output_type": "execute_result"
    }
   ],
   "source": [
    "X2_train_split_1b_2d.shape    #shape of right child"
   ]
  },
  {
   "cell_type": "markdown",
   "metadata": {},
   "source": [
    "### Calculating MSE for nodes 1b_2c  & 1b_2d"
   ]
  },
  {
   "cell_type": "code",
   "execution_count": 48,
   "metadata": {},
   "outputs": [
    {
     "name": "stdout",
     "output_type": "stream",
     "text": [
      "MSE for node 1b_2c: \t1144.955004591368\n"
     ]
    }
   ],
   "source": [
    "trainMSE_split_1b_2c = MSE(y2_train_split_1b_2c, y2_train_split_1b_2c.mean())\n",
    "print('MSE for node 1b_2c: \\t' +str(trainMSE_split_1b_2c))"
   ]
  },
  {
   "cell_type": "code",
   "execution_count": 49,
   "metadata": {},
   "outputs": [
    {
     "name": "stdout",
     "output_type": "stream",
     "text": [
      "MSE for node 1b_2d: \t1192.1285583103763\n"
     ]
    }
   ],
   "source": [
    "trainMSE_split_1b_2d = MSE(y2_train_split_1b_2d, y2_train_split_1b_2d.mean())\n",
    "print('MSE for node 1b_2d: \\t' +str(trainMSE_split_1b_2d))"
   ]
  },
  {
   "cell_type": "markdown",
   "metadata": {
    "collapsed": true
   },
   "source": [
    "### Saving childs in tree"
   ]
  },
  {
   "cell_type": "code",
   "execution_count": 50,
   "metadata": {
    "collapsed": true
   },
   "outputs": [],
   "source": [
    "t_1b.data = [maxFeature, medianVal]\n",
    "t_1b_2c = Tree('1b_2c')\n",
    "t_1b.left = t_1b_2c\n",
    "t_1b_2d = Tree('1b_2d')\n",
    "t_1b.right = t_1b_2d\n",
    "t_1b_2d.data = [y2_train_split_1b_2d.mean(), y2_train_split_1b_2d]    # saving the mean value in leaf node"
   ]
  },
  {
   "cell_type": "markdown",
   "metadata": {},
   "source": [
    "# Spliting node 1b_2c"
   ]
  },
  {
   "cell_type": "code",
   "execution_count": 51,
   "metadata": {},
   "outputs": [
    {
     "name": "stdout",
     "output_type": "stream",
     "text": [
      "Correlation of output with radius 1\t\t-0.23675791852764555\n",
      "Correlation of output with texture 1\t\t-0.0969600005664381\n",
      "Correlation of output with perimeter 1\t\t-0.21026723093912444\n",
      "Correlation of output with area 1\t\t-0.22772116561043476\n",
      "Correlation of output with smoothness 1\t\t0.2996195948554076\n",
      "Correlation of output with compactness 1\t\t0.2856234630122013\n",
      "Correlation of output with concavity 1\t\t0.2177422989622318\n",
      "Correlation of output with concave points 1\t\t0.14960759118945607\n",
      "Correlation of output with symmetry 1\t\t0.28318178781468767\n",
      "Correlation of output with fractal dimension 1\t\t0.3431772533022843\n",
      "Correlation of output with radius 2\t\t-0.0671295564770444\n",
      "Correlation of output with texture 2\t\t-0.21599556797073466\n",
      "Correlation of output with perimeter 2\t\t-0.0800125898976915\n",
      "Correlation of output with area 2\t\t-0.07834193932402034\n",
      "Correlation of output with smoothness 2\t\t0.12362737434201808\n",
      "Correlation of output with compactness 2\t\t0.22973019115938378\n",
      "Correlation of output with concavity 2\t\t0.16965951172029073\n",
      "Correlation of output with concave points 2\t\t-0.03133429977015851\n",
      "Correlation of output with symmetry 2\t\t0.24694531603722764\n",
      "Correlation of output with fractal dimension 2\t\t0.23859990398760345\n",
      "Correlation of output with radius 3\t\t-0.017003281369789285\n",
      "Correlation of output with texture 3\t\t-0.04408823805966802\n",
      "Correlation of output with perimeter 3\t\t-0.023829773953028384\n",
      "Correlation of output with area 3\t\t-0.017493809527499616\n",
      "Correlation of output with smoothness 3\t\t0.2831818511152274\n",
      "Correlation of output with compactness 3\t\t0.25295556075812986\n",
      "Correlation of output with concavity 3\t\t0.24554897252896937\n",
      "Correlation of output with concave points 3\t\t0.245702519887635\n",
      "Correlation of output with symmetry 3\t\t0.4230338691367076\n",
      "Correlation of output with fractal dimension 3\t\t0.28578687946704345\n",
      "Correlation of output with Tumor size\t\t-0.36433716403656324\n",
      "Correlation of output with Lymph node status\t\t-0.25302041401308606\n"
     ]
    }
   ],
   "source": [
    "correlationList = correlationCheck(X2_train_split_1b_2c,y2_train_split_1b_2c)"
   ]
  },
  {
   "cell_type": "markdown",
   "metadata": {},
   "source": [
    "### Finding feature with max correlation"
   ]
  },
  {
   "cell_type": "code",
   "execution_count": 52,
   "metadata": {},
   "outputs": [
    {
     "name": "stdout",
     "output_type": "stream",
     "text": [
      "Maximun correlated feature is: \tsymmetry 3\n"
     ]
    }
   ],
   "source": [
    "maxFeatureIndex = correlationList.index(max(correlationList))\n",
    "maxFeature = featuresToCheck[maxFeatureIndex]\n",
    "print('Maximun correlated feature is: \\t' + maxFeature)"
   ]
  },
  {
   "cell_type": "markdown",
   "metadata": {},
   "source": [
    "### splitting according to 'smoothness 2'"
   ]
  },
  {
   "cell_type": "code",
   "execution_count": 53,
   "metadata": {},
   "outputs": [
    {
     "name": "stdout",
     "output_type": "stream",
     "text": [
      "Median value for spliting feature: \t0.3485\n"
     ]
    }
   ],
   "source": [
    "medianVal = X2_train_split_1b_2c['symmetry 3'].median()    # split point\n",
    "print('Median value for spliting feature: \\t' + str(medianVal))"
   ]
  },
  {
   "cell_type": "code",
   "execution_count": 54,
   "metadata": {
    "collapsed": true
   },
   "outputs": [],
   "source": [
    "X2_train_split_1b_2c_3a = X2_train_split_1b_2c[X2_train_split_1b_2c['symmetry 3'] > medianVal]\n",
    "X2_train_split_1b_2c_3b = X2_train_split_1b_2c[X2_train_split_1b_2c['symmetry 3'] <= medianVal]\n",
    "y2_train_split_1b_2c_3a = y2_train_split_1b_2c[X2_train_split_1b_2c['symmetry 3'] > medianVal]\n",
    "y2_train_split_1b_2c_3b = y2_train_split_1b_2c[X2_train_split_1b_2c['symmetry 3'] <= medianVal]"
   ]
  },
  {
   "cell_type": "code",
   "execution_count": 55,
   "metadata": {},
   "outputs": [
    {
     "data": {
      "text/plain": [
       "(16, 32)"
      ]
     },
     "execution_count": 55,
     "metadata": {},
     "output_type": "execute_result"
    }
   ],
   "source": [
    "X2_train_split_1b_2c_3a.shape    #shape of left child"
   ]
  },
  {
   "cell_type": "code",
   "execution_count": 56,
   "metadata": {},
   "outputs": [
    {
     "data": {
      "text/plain": [
       "(17, 32)"
      ]
     },
     "execution_count": 56,
     "metadata": {},
     "output_type": "execute_result"
    }
   ],
   "source": [
    "X2_train_split_1b_2c_3b.shape    #shape of right child"
   ]
  },
  {
   "cell_type": "markdown",
   "metadata": {},
   "source": [
    "### Calculating MSE for nodes 1b_2c_3a  & 1b_2c_3b"
   ]
  },
  {
   "cell_type": "code",
   "execution_count": 57,
   "metadata": {},
   "outputs": [
    {
     "name": "stdout",
     "output_type": "stream",
     "text": [
      "MSE for node 1b_2c_3a: \t1280.6875\n"
     ]
    }
   ],
   "source": [
    "trainMSE_split_1b_2c_3a = MSE(y2_train_split_1b_2c_3a, y2_train_split_1b_2c_3a.mean())\n",
    "print('MSE for node 1b_2c_3a: \\t' +str(trainMSE_split_1b_2c_3a))"
   ]
  },
  {
   "cell_type": "code",
   "execution_count": 58,
   "metadata": {},
   "outputs": [
    {
     "name": "stdout",
     "output_type": "stream",
     "text": [
      "MSE for node 1b_2c_3b: \t980.8304498269897\n"
     ]
    }
   ],
   "source": [
    "trainMSE_split_1b_2c_3b = MSE(y2_train_split_1b_2c_3b, y2_train_split_1b_2c_3b.mean())\n",
    "print('MSE for node 1b_2c_3b: \\t' +str(trainMSE_split_1b_2c_3b))"
   ]
  },
  {
   "cell_type": "markdown",
   "metadata": {},
   "source": [
    "### Saving the childs in tree"
   ]
  },
  {
   "cell_type": "code",
   "execution_count": 60,
   "metadata": {
    "collapsed": true
   },
   "outputs": [],
   "source": [
    "t_1b_2c.data = [maxFeature, medianVal]\n",
    "t_1b_2c_3a = Tree('1b_2c_3a')\n",
    "t_1b_2c.left = t_1b_2c_3a\n",
    "t_1b_2c_3b = Tree('1b_2c_3b')\n",
    "t_1b_2c.right = t_1b_2c_3b\n",
    "t_1b_2c_3b.data = [y2_train_split_1b_2c_3b.mean(), y2_train_split_1b_2c_3b]    # saving the mean value in leaf node"
   ]
  },
  {
   "cell_type": "markdown",
   "metadata": {},
   "source": [
    "## Spliting node 1b_2c_3a"
   ]
  },
  {
   "cell_type": "code",
   "execution_count": 71,
   "metadata": {},
   "outputs": [
    {
     "name": "stdout",
     "output_type": "stream",
     "text": [
      "Correlation of output with radius 1\t\t-0.5027601277473197\n",
      "Correlation of output with texture 1\t\t-0.5358994017272385\n",
      "Correlation of output with perimeter 1\t\t-0.5031159704360926\n",
      "Correlation of output with area 1\t\t-0.4570988310619956\n",
      "Correlation of output with smoothness 1\t\t0.30266507470648457\n",
      "Correlation of output with compactness 1\t\t0.2519473554087262\n",
      "Correlation of output with concavity 1\t\t-0.009275798700003302\n",
      "Correlation of output with concave points 1\t\t-0.014784076988535611\n",
      "Correlation of output with symmetry 1\t\t0.36643640298564073\n",
      "Correlation of output with fractal dimension 1\t\t0.3697560509044348\n",
      "Correlation of output with radius 2\t\t0.08313698591500653\n",
      "Correlation of output with texture 2\t\t-0.24024319088481932\n",
      "Correlation of output with perimeter 2\t\t0.00403161826898926\n",
      "Correlation of output with area 2\t\t-0.009517120800246328\n",
      "Correlation of output with smoothness 2\t\t0.002663755737402068\n",
      "Correlation of output with compactness 2\t\t0.2161626810416415\n",
      "Correlation of output with concavity 2\t\t-0.041833912053385644\n",
      "Correlation of output with concave points 2\t\t0.12783167925456387\n",
      "Correlation of output with symmetry 2\t\t0.33428938529092217\n",
      "Correlation of output with fractal dimension 2\t\t0.18700796372390155\n",
      "Correlation of output with radius 3\t\t-0.14651409615014013\n",
      "Correlation of output with texture 3\t\t-0.5371294627024151\n",
      "Correlation of output with perimeter 3\t\t-0.20248713271286614\n",
      "Correlation of output with area 3\t\t-0.11959429520244391\n",
      "Correlation of output with smoothness 3\t\t0.03409610573799737\n",
      "Correlation of output with compactness 3\t\t0.18539652667640125\n",
      "Correlation of output with concavity 3\t\t0.029706438448369062\n",
      "Correlation of output with concave points 3\t\t0.21824088522857632\n",
      "Correlation of output with symmetry 3\t\t0.5254226927766575\n",
      "Correlation of output with fractal dimension 3\t\t0.1978569783916705\n",
      "Correlation of output with Tumor size\t\t-0.31534774784060654\n",
      "Correlation of output with Lymph node status\t\t-0.31538025234955347\n",
      "\n",
      " Maximun correlated feature is: \ttexture 3\n",
      "\n",
      " Median value for spliting feature: \t31.105\n",
      "\n",
      " Size of child nodes are: \t8\n",
      "\n",
      " MSE for node 1b_2c_3a_4a: \t1280.6875\n",
      "\n",
      " MSE for node 1b_2c_3a_4b: \t980.8304498269897\n"
     ]
    }
   ],
   "source": [
    "correlationList = correlationCheck(X2_train_split_1b_2c_3a,y2_train_split_1b_2c_3a)\n",
    "\n",
    "maxFeatureIndex = correlationList.index(max(correlationList))\n",
    "featuresToCheck = X2_train_split_1b_2c_3a.keys()\n",
    "maxFeature = featuresToCheck[maxFeatureIndex]\n",
    "\n",
    "print('\\n Maximun correlated feature is: \\t' + maxFeature)\n",
    "medianVal = X2_train_split_1b_2c_3a[maxFeature].median()    # split point\n",
    "print('\\n Median value for spliting feature: \\t' + str(medianVal))\n",
    "\n",
    "X2_train_split_1b_2c_3a_4a = X2_train_split_1b_2c_3a[X2_train_split_1b_2c_3a[maxFeature] > medianVal]\n",
    "X2_train_split_1b_2c_3a_4b = X2_train_split_1b_2c_3a[X2_train_split_1b_2c_3a[maxFeature] <= medianVal]\n",
    "y2_train_split_1b_2c_3a_4a = y2_train_split_1b_2c_3a[X2_train_split_1b_2c_3a[maxFeature] > medianVal]\n",
    "y2_train_split_1b_2c_3a_4b = y2_train_split_1b_2c_3a[X2_train_split_1b_2c_3a[maxFeature] <= medianVal]\n",
    "\n",
    "print('\\n Size of child nodes are: \\t' + str(y2_train_split_1b_2c_3a_4b.size))\n",
    "\n",
    "trainMSE_split_1b_2c_3a_4a = MSE(y2_train_split_1b_2c_3a_4a, y2_train_split_1b_2c_3a_4a.mean())\n",
    "print('\\n MSE for node 1b_2c_3a_4a: \\t' +str(trainMSE_split_1b_2c_3a))\n",
    "\n",
    "trainMSE_split_1b_2c_3a_4b = MSE(y2_train_split_1b_2c_3a_4b, y2_train_split_1b_2c_3a_4b.mean())\n",
    "print('\\n MSE for node 1b_2c_3a_4b: \\t' +str(trainMSE_split_1b_2c_3b))\n"
   ]
  },
  {
   "cell_type": "markdown",
   "metadata": {},
   "source": [
    "### Stop growing tree as minimum instances per leaf node is 8"
   ]
  },
  {
   "cell_type": "markdown",
   "metadata": {},
   "source": [
    "### Saving childs in tree"
   ]
  },
  {
   "cell_type": "code",
   "execution_count": 62,
   "metadata": {
    "collapsed": true
   },
   "outputs": [],
   "source": [
    "t_1b_2c_3a.data = [maxFeature, medianVal]\n",
    "t_1b_2c_3a_4a = Tree('1b_2c_3a_4a')\n",
    "t_1b_2c_3a.left = t_1b_2c_3a_4a\n",
    "t_1b_2c_3a_4a.data = [y2_train_split_1b_2c_3a_4a.mean(), y2_train_split_1b_2c_3a_4a]  #saving the mean value in leaf node\n",
    "t_1b_2c_3a_4b = Tree('1b_2c_3a_4b')\n",
    "t_1b_2c_3a.right = t_1b_2c_3a_4b\n",
    "t_1b_2c_3a_4b.data = [y2_train_split_1b_2c_3a_4b.mean(), y2_train_split_1b_2c_3a_4b]  #saving the mean value in leaf node"
   ]
  },
  {
   "cell_type": "markdown",
   "metadata": {},
   "source": [
    "# Tree structure Completed"
   ]
  },
  {
   "cell_type": "markdown",
   "metadata": {},
   "source": [
    "### Function for traversing tree"
   ]
  },
  {
   "cell_type": "code",
   "execution_count": 63,
   "metadata": {
    "collapsed": true
   },
   "outputs": [],
   "source": [
    "def preorder(tree):\n",
    "    if tree:\n",
    "        print('\\nNode name: \\t\\t\\t\\t' + str(tree.name))\n",
    "        if(tree.left == None):\n",
    "            print('Leaf Node')\n",
    "            print('Population of leaf node is: \\t\\t' + str(tree.data[1].size))\n",
    "            print('Avg. value at leaf node is: \\t\\t' + str(tree.data[0]))\n",
    "        else:\n",
    "            print('Attribute spliting the node is: \\t' + tree.data[0])\n",
    "            print('Mean value that splits the node is: \\t' + str(tree.data[1]))\n",
    "        preorder(tree.left)\n",
    "        preorder(tree.right)\n",
    "\n",
    "def leafNodes(tree):\n",
    "    if tree:\n",
    "        if(tree.left == None):\n",
    "            print('\\nLeaf node name: \\t\\t\\t' + str(tree.name))\n",
    "            print('Population of leaf node is: \\t\\t' + str(tree.data[1].size))\n",
    "            print('Avg. value at leaf node is: \\t\\t' + str(tree.data[0]))\n",
    "        leafNodes(tree.left)\n",
    "        leafNodes(tree.right)"
   ]
  },
  {
   "cell_type": "markdown",
   "metadata": {},
   "source": [
    "## Structure of resulting Regression tree "
   ]
  },
  {
   "cell_type": "code",
   "execution_count": 64,
   "metadata": {},
   "outputs": [
    {
     "name": "stdout",
     "output_type": "stream",
     "text": [
      "\n",
      "Node name: \t\t\t\tt_1\n",
      "Attribute spliting the node is: \tperimeter 1\n",
      "Mean value that splits the node is: \t110.05\n",
      "\n",
      "Node name: \t\t\t\t1a\n",
      "Attribute spliting the node is: \tperimeter 3\n",
      "Mean value that splits the node is: \t157.6\n",
      "\n",
      "Node name: \t\t\t\t1a_2a\n",
      "Leaf Node\n",
      "Population of leaf node is: \t\t32\n",
      "Avg. value at leaf node is: \t\t36.90625\n",
      "\n",
      "Node name: \t\t\t\t1a_2b\n",
      "Leaf Node\n",
      "Population of leaf node is: \t\t34\n",
      "Avg. value at leaf node is: \t\t57.1764705882353\n",
      "\n",
      "Node name: \t\t\t\t1b\n",
      "Attribute spliting the node is: \tTumor size\n",
      "Mean value that splits the node is: \t1.95\n",
      "\n",
      "Node name: \t\t\t\t1b_2c\n",
      "Attribute spliting the node is: \tsymmetry 3\n",
      "Mean value that splits the node is: \t0.3485\n",
      "\n",
      "Node name: \t\t\t\t1b_2c_3a\n",
      "Attribute spliting the node is: \ttexture 3\n",
      "Mean value that splits the node is: \t31.105\n",
      "\n",
      "Node name: \t\t\t\t1b_2c_3a_4a\n",
      "Leaf Node\n",
      "Population of leaf node is: \t\t8\n",
      "Avg. value at leaf node is: \t\t59.125\n",
      "\n",
      "Node name: \t\t\t\t1b_2c_3a_4b\n",
      "Leaf Node\n",
      "Population of leaf node is: \t\t8\n",
      "Avg. value at leaf node is: \t\t93.375\n",
      "\n",
      "Node name: \t\t\t\t1b_2c_3b\n",
      "Leaf Node\n",
      "Population of leaf node is: \t\t17\n",
      "Avg. value at leaf node is: \t\t67.58823529411765\n",
      "\n",
      "Node name: \t\t\t\t1b_2d\n",
      "Leaf Node\n",
      "Population of leaf node is: \t\t33\n",
      "Avg. value at leaf node is: \t\t68.84848484848484\n"
     ]
    }
   ],
   "source": [
    "preorder(t_1)"
   ]
  },
  {
   "cell_type": "markdown",
   "metadata": {},
   "source": [
    "## Details of leaf Node"
   ]
  },
  {
   "cell_type": "code",
   "execution_count": 65,
   "metadata": {},
   "outputs": [
    {
     "name": "stdout",
     "output_type": "stream",
     "text": [
      "\n",
      "Leaf node name: \t\t\t1a_2a\n",
      "Population of leaf node is: \t\t32\n",
      "Avg. value at leaf node is: \t\t36.90625\n",
      "\n",
      "Leaf node name: \t\t\t1a_2b\n",
      "Population of leaf node is: \t\t34\n",
      "Avg. value at leaf node is: \t\t57.1764705882353\n",
      "\n",
      "Leaf node name: \t\t\t1b_2c_3a_4a\n",
      "Population of leaf node is: \t\t8\n",
      "Avg. value at leaf node is: \t\t59.125\n",
      "\n",
      "Leaf node name: \t\t\t1b_2c_3a_4b\n",
      "Population of leaf node is: \t\t8\n",
      "Avg. value at leaf node is: \t\t93.375\n",
      "\n",
      "Leaf node name: \t\t\t1b_2c_3b\n",
      "Population of leaf node is: \t\t17\n",
      "Avg. value at leaf node is: \t\t67.58823529411765\n",
      "\n",
      "Leaf node name: \t\t\t1b_2d\n",
      "Population of leaf node is: \t\t33\n",
      "Avg. value at leaf node is: \t\t68.84848484848484\n"
     ]
    }
   ],
   "source": [
    "leafNodes(t_1)"
   ]
  },
  {
   "cell_type": "markdown",
   "metadata": {},
   "source": [
    "#### Defining function to predict value & calculate MSE over a tree"
   ]
  },
  {
   "cell_type": "code",
   "execution_count": 66,
   "metadata": {
    "collapsed": true
   },
   "outputs": [],
   "source": [
    "def predictValue(x,rootOfTree):\n",
    "    presentNode = rootOfTree\n",
    "    for i in range(10):\n",
    "        if(presentNode.left == None):\n",
    "            return presentNode.data[0]\n",
    "        elif(x[presentNode.data[0]] > presentNode.data[1]):\n",
    "            presentNode = presentNode.left\n",
    "        else:\n",
    "            presentNode = presentNode.right\n",
    "\n",
    "            \n",
    "def MSETree(X,y,rootOfTree):\n",
    "    error = 0\n",
    "    for i in range(len(X)):\n",
    "        yPred = predictValue(X.iloc[i],rootOfTree)\n",
    "        error = error + (y.iloc[i] - yPred)**2\n",
    "    return error/len(X)\n",
    "            "
   ]
  },
  {
   "cell_type": "markdown",
   "metadata": {},
   "source": [
    "## Calculating MSE of training set over the tree"
   ]
  },
  {
   "cell_type": "code",
   "execution_count": 67,
   "metadata": {},
   "outputs": [
    {
     "name": "stdout",
     "output_type": "stream",
     "text": [
      "MSE of traing set over the tree is: \t959.414924226\n"
     ]
    }
   ],
   "source": [
    "MSETrain = MSETree(X2_train,y2_train,t_1)\n",
    "print('MSE of traing set over the tree is: \\t' +str(MSETrain))"
   ]
  },
  {
   "cell_type": "markdown",
   "metadata": {},
   "source": [
    "## Calculating MSE of test set over the tree"
   ]
  },
  {
   "cell_type": "code",
   "execution_count": 68,
   "metadata": {},
   "outputs": [
    {
     "name": "stdout",
     "output_type": "stream",
     "text": [
      "MSE of testing set over the tree is: \t1528.29901333\n"
     ]
    }
   ],
   "source": [
    "MSETest = MSETree(X2_test,y2_test,t_1)\n",
    "print('MSE of testing set over the tree is: \\t' +str(MSETest))"
   ]
  },
  {
   "cell_type": "markdown",
   "metadata": {},
   "source": [
    "# 2 d) Analysis:"
   ]
  },
  {
   "cell_type": "markdown",
   "metadata": {},
   "source": [
    "#### Defining function to calculate MSE of each leaf node"
   ]
  },
  {
   "cell_type": "code",
   "execution_count": 69,
   "metadata": {
    "collapsed": true
   },
   "outputs": [],
   "source": [
    "def MSELeafNode(tree):\n",
    "    if tree:\n",
    "        if(tree.left == None):\n",
    "            print('\\nLeaf node name: \\t\\t' + str(tree.name))\n",
    "            MSEAtLeaf = MSE(tree.data[1], tree.data[0])\n",
    "            print('MSE at leaf node is: \\t\\t' + str(MSEAtLeaf))\n",
    "        MSELeafNode(tree.left)\n",
    "        MSELeafNode(tree.right)"
   ]
  },
  {
   "cell_type": "code",
   "execution_count": 70,
   "metadata": {},
   "outputs": [
    {
     "name": "stdout",
     "output_type": "stream",
     "text": [
      "\n",
      "Leaf node name: \t\t1a_2a\n",
      "MSE at leaf node is: \t\t815.3349609375\n",
      "\n",
      "Leaf node name: \t\t1a_2b\n",
      "MSE at leaf node is: \t\t845.262975778547\n",
      "\n",
      "Leaf node name: \t\t1b_2c_3a_4a\n",
      "MSE at leaf node is: \t\t974.109375\n",
      "\n",
      "Leaf node name: \t\t1b_2c_3a_4b\n",
      "MSE at leaf node is: \t\t1000.734375\n",
      "\n",
      "Leaf node name: \t\t1b_2c_3b\n",
      "MSE at leaf node is: \t\t980.8304498269897\n",
      "\n",
      "Leaf node name: \t\t1b_2d\n",
      "MSE at leaf node is: \t\t1192.1285583103763\n"
     ]
    }
   ],
   "source": [
    "MSELeafNode(t_1)"
   ]
  },
  {
   "cell_type": "code",
   "execution_count": null,
   "metadata": {
    "collapsed": true
   },
   "outputs": [],
   "source": [
    "# Analysis: "
   ]
  },
  {
   "cell_type": "markdown",
   "metadata": {},
   "source": [
    "# Question 3"
   ]
  },
  {
   "cell_type": "code",
   "execution_count": 2,
   "metadata": {
    "collapsed": true
   },
   "outputs": [],
   "source": [
    "dataWWQ = pd.read_csv('/Volumes/Work/study/U Cincinnati/IDA/assignments/Assign 3/winequality-white.csv')"
   ]
  },
  {
   "cell_type": "code",
   "execution_count": 3,
   "metadata": {},
   "outputs": [
    {
     "name": "stdout",
     "output_type": "stream",
     "text": [
      "<class 'pandas.core.frame.DataFrame'>\n",
      "RangeIndex: 4898 entries, 0 to 4897\n",
      "Data columns (total 12 columns):\n",
      "fixed acidity           4898 non-null float64\n",
      "volatile acidity        4898 non-null float64\n",
      "citric acid             4898 non-null float64\n",
      "residual sugar          4898 non-null float64\n",
      "chlorides               4898 non-null float64\n",
      "free sulfur dioxide     4898 non-null float64\n",
      "total sulfur dioxide    4898 non-null float64\n",
      "density                 4898 non-null float64\n",
      "pH                      4898 non-null float64\n",
      "sulphates               4898 non-null float64\n",
      "alcohol                 4898 non-null float64\n",
      "quality                 4898 non-null int64\n",
      "dtypes: float64(11), int64(1)\n",
      "memory usage: 459.3 KB\n"
     ]
    }
   ],
   "source": [
    "dataWWQ.info()"
   ]
  },
  {
   "cell_type": "code",
   "execution_count": 4,
   "metadata": {},
   "outputs": [
    {
     "data": {
      "text/plain": [
       "(4898, 11)"
      ]
     },
     "execution_count": 4,
     "metadata": {},
     "output_type": "execute_result"
    }
   ],
   "source": [
    "X3 = dataWWQ.loc[:,'fixed acidity':'alcohol']\n",
    "y3 = dataWWQ.loc[:,'quality']\n",
    "X3.shape"
   ]
  },
  {
   "cell_type": "markdown",
   "metadata": {},
   "source": [
    "## Making train and test datasets"
   ]
  },
  {
   "cell_type": "code",
   "execution_count": 94,
   "metadata": {
    "collapsed": true
   },
   "outputs": [],
   "source": [
    "X3_train, X3_test, y3_train, y3_test = X3[:3000], X3[3000:], y3[:3000], y3[3000:]"
   ]
  },
  {
   "cell_type": "markdown",
   "metadata": {},
   "source": [
    "### Initial MSE of training data"
   ]
  },
  {
   "cell_type": "code",
   "execution_count": 95,
   "metadata": {},
   "outputs": [
    {
     "name": "stdout",
     "output_type": "stream",
     "text": [
      "MSE for training data: \t0.8362132222222316\n"
     ]
    }
   ],
   "source": [
    "trainMSE = MSE(y3_train, y3_train.mean())\n",
    "print('MSE for training data: \\t' +str(trainMSE))"
   ]
  },
  {
   "cell_type": "markdown",
   "metadata": {},
   "source": [
    "### MSE of test data"
   ]
  },
  {
   "cell_type": "code",
   "execution_count": 96,
   "metadata": {},
   "outputs": [
    {
     "name": "stdout",
     "output_type": "stream",
     "text": [
      "MSE for test data: \t0.7064365845919731\n"
     ]
    }
   ],
   "source": [
    "testMSE = MSE(y3_test, y3_train.mean())\n",
    "print('MSE for test data: \\t' +str(testMSE))"
   ]
  },
  {
   "cell_type": "markdown",
   "metadata": {},
   "source": [
    "# Making function for spliting a node for regression tree"
   ]
  },
  {
   "cell_type": "code",
   "execution_count": 97,
   "metadata": {
    "collapsed": true
   },
   "outputs": [],
   "source": [
    "\n",
    "def split(X,y):\n",
    "    correlationList = correlationCheck(X,y)\n",
    "    maxFeatureIndex = correlationList.index(max(correlationList))\n",
    "    featuresToCheck = X.keys()\n",
    "    maxFeature = featuresToCheck[maxFeatureIndex]\n",
    "    print('\\n Maximun correlated feature is: \\t\\t' + maxFeature)\n",
    "    medianVal = X[maxFeature].median()    # split point\n",
    "    print('\\n Median value for spliting feature: \\t' + str(medianVal))\n",
    "    X_leftChild = X[X[maxFeature] > medianVal]\n",
    "    X_rightChild = X[X[maxFeature] <= medianVal]\n",
    "    y_leftChild = y[X[maxFeature] > medianVal]\n",
    "    y_rightChild = y[X[maxFeature] <= medianVal]\n",
    "    trainMSE_leftChild = MSE(y_leftChild, y_leftChild.mean())\n",
    "    print('\\n MSE for node left child: \\t\\t' +str(trainMSE_leftChild))\n",
    "    trainMSE_rightChild = MSE(y_rightChild, y_rightChild.mean())\n",
    "    print('\\n MSE for node right child: \\t\\t' +str(trainMSE_rightChild))\n",
    "    return [X_leftChild, X_rightChild, y_leftChild, y_rightChild, maxFeature, medianVal]  \n",
    "\n"
   ]
  },
  {
   "cell_type": "markdown",
   "metadata": {},
   "source": [
    "### Initiating a structure for saving tree"
   ]
  },
  {
   "cell_type": "code",
   "execution_count": 98,
   "metadata": {
    "collapsed": true
   },
   "outputs": [],
   "source": [
    "class Tree(object):\n",
    "    def __init__(self,name):\n",
    "        self.name = name\n",
    "        self.left = None\n",
    "        self.right = None\n",
    "        self.data = None"
   ]
  },
  {
   "cell_type": "code",
   "execution_count": null,
   "metadata": {
    "collapsed": true
   },
   "outputs": [],
   "source": []
  },
  {
   "cell_type": "markdown",
   "metadata": {},
   "source": [
    "## Spliting X3 (root node 1) into 1a and 1b"
   ]
  },
  {
   "cell_type": "code",
   "execution_count": 194,
   "metadata": {},
   "outputs": [
    {
     "name": "stdout",
     "output_type": "stream",
     "text": [
      "Correlation of output with fixed acidity\t\t-0.10143445258192141\n",
      "Correlation of output with volatile acidity\t\t-0.21728285431212072\n",
      "Correlation of output with citric acid\t\t-0.003811604921858443\n",
      "Correlation of output with residual sugar\t\t-0.12480814054014668\n",
      "Correlation of output with chlorides\t\t-0.19557234985547556\n",
      "Correlation of output with free sulfur dioxide\t\t0.03105969363873351\n",
      "Correlation of output with total sulfur dioxide\t\t-0.1492022630946953\n",
      "Correlation of output with density\t\t-0.3081459870022807\n",
      "Correlation of output with pH\t\t0.15875132343727888\n",
      "Correlation of output with sulphates\t\t0.08795467999530462\n",
      "Correlation of output with alcohol\t\t0.44340646051967825\n",
      "\n",
      " Maximun correlated feature is: \talcohol\n",
      "\n",
      " Median value for spliting feature: \t10.1\n",
      "\n",
      " MSE for node left child: \t0.8910990866934998\n",
      "\n",
      " MSE for node right child: \t0.5628735051699983\n"
     ]
    }
   ],
   "source": [
    "model = split(X3_train,y3_train)  # model contains datasets after split"
   ]
  },
  {
   "cell_type": "markdown",
   "metadata": {},
   "source": [
    "### Not expanding right child (1b) \n",
    "### Making the two datasets for 1a and 1b"
   ]
  },
  {
   "cell_type": "code",
   "execution_count": 195,
   "metadata": {
    "collapsed": true
   },
   "outputs": [],
   "source": [
    "X3_train_split_1a, X3_train_split_1b = model[0], model[1]\n",
    "y3_train_split_1a, y3_train_split_1b = model[2], model[3]"
   ]
  },
  {
   "cell_type": "markdown",
   "metadata": {},
   "source": [
    "### Saving root and its child in tree "
   ]
  },
  {
   "cell_type": "code",
   "execution_count": 196,
   "metadata": {
    "collapsed": true
   },
   "outputs": [],
   "source": [
    "t1 = Tree('1')\n",
    "t1.data = [model[4], model[5]]"
   ]
  },
  {
   "cell_type": "code",
   "execution_count": 197,
   "metadata": {
    "collapsed": true
   },
   "outputs": [],
   "source": [
    "t1a = Tree('1a')\n",
    "t1.left = t1a\n",
    "t1b = Tree('1b')\n",
    "t1.right = t1b\n",
    "t1b.data = [y3_train_split_1b.mean(), y3_train_split_1b]    # saving the mean value in leaf node\n"
   ]
  },
  {
   "cell_type": "markdown",
   "metadata": {},
   "source": [
    "# Spliting node 1a"
   ]
  },
  {
   "cell_type": "code",
   "execution_count": 198,
   "metadata": {},
   "outputs": [
    {
     "name": "stdout",
     "output_type": "stream",
     "text": [
      "Correlation of output with fixed acidity\t\t-0.19331580938851206\n",
      "Correlation of output with volatile acidity\t\t-0.08440642236352647\n",
      "Correlation of output with citric acid\t\t-0.009485036778327526\n",
      "Correlation of output with residual sugar\t\t-0.005896156083784396\n",
      "Correlation of output with chlorides\t\t-0.13656287016553414\n",
      "Correlation of output with free sulfur dioxide\t\t0.1790402991225685\n",
      "Correlation of output with total sulfur dioxide\t\t-0.022328499607482878\n",
      "Correlation of output with density\t\t-0.22498835868557354\n",
      "Correlation of output with pH\t\t0.15613324472734974\n",
      "Correlation of output with sulphates\t\t0.10220104879300111\n",
      "Correlation of output with alcohol\t\t0.3487049226638857\n",
      "\n",
      " Maximun correlated feature is: \talcohol\n",
      "\n",
      " Median value for spliting feature: \t11.1\n",
      "\n",
      " MSE for node left child: \t0.876560285577275\n",
      "\n",
      " MSE for node right child: \t0.7750290282203207\n"
     ]
    }
   ],
   "source": [
    "model = split(X3_train_split_1a,y3_train_split_1a)  # model contains datasets after split"
   ]
  },
  {
   "cell_type": "markdown",
   "metadata": {},
   "source": [
    "### Making datasets for child nodes"
   ]
  },
  {
   "cell_type": "code",
   "execution_count": 134,
   "metadata": {
    "collapsed": true
   },
   "outputs": [],
   "source": [
    "X3_train_split_1a_2a, X3_train_split_1a_2b = model[0], model[1]\n",
    "y3_train_split_1a_2a, y3_train_split_1a_2b = model[2], model[3]"
   ]
  },
  {
   "cell_type": "markdown",
   "metadata": {},
   "source": [
    "### Saving Both the child nodes in tree"
   ]
  },
  {
   "cell_type": "code",
   "execution_count": 199,
   "metadata": {
    "collapsed": true
   },
   "outputs": [],
   "source": [
    "t1a.data = [model[4], model[5]]\n",
    "t1a_2a = Tree('1a_2a')\n",
    "t1a.left = t1a_2a\n",
    "t1a_2b = Tree('1a_2b')\n",
    "t1a.right = t1a_2b\n",
    "t1a_2b.data = [y3_train_split_1a_2b.mean(), y3_train_split_1a_2b]   # saving mean value in leaf node"
   ]
  },
  {
   "cell_type": "markdown",
   "metadata": {},
   "source": [
    "# Spliting node 1a_2a"
   ]
  },
  {
   "cell_type": "code",
   "execution_count": 200,
   "metadata": {},
   "outputs": [
    {
     "name": "stdout",
     "output_type": "stream",
     "text": [
      "Correlation of output with fixed acidity\t\t-0.1904480855337412\n",
      "Correlation of output with volatile acidity\t\t0.06931945253883465\n",
      "Correlation of output with citric acid\t\t-0.05534307621163023\n",
      "Correlation of output with residual sugar\t\t0.012532029820572799\n",
      "Correlation of output with chlorides\t\t-0.12911701911811158\n",
      "Correlation of output with free sulfur dioxide\t\t0.28798661438644274\n",
      "Correlation of output with total sulfur dioxide\t\t0.12432555271529801\n",
      "Correlation of output with density\t\t-0.11849854445185949\n",
      "Correlation of output with pH\t\t0.19908250966387206\n",
      "Correlation of output with sulphates\t\t0.12224693117691378\n",
      "Correlation of output with alcohol\t\t0.25970753451733036\n",
      "\n",
      " Maximun correlated feature is: \tfree sulfur dioxide\n",
      "\n",
      " Median value for spliting feature: \t29.0\n",
      "\n",
      " MSE for node left child: \t0.7439678996598621\n",
      "\n",
      " MSE for node right child: \t0.9507311105820254\n"
     ]
    }
   ],
   "source": [
    "model = split(X3_train_split_1a_2a, y3_train_split_1a_2a)  # model contains datasets after split"
   ]
  },
  {
   "cell_type": "markdown",
   "metadata": {},
   "source": [
    "### No need to split right child (1a_2a_3a) further"
   ]
  },
  {
   "cell_type": "code",
   "execution_count": 137,
   "metadata": {
    "collapsed": true
   },
   "outputs": [],
   "source": [
    "X3_train_split_1a_2a_3a, X3_train_split_1a_2a_3b  = model[0], model[1]\n",
    "y3_train_split_1a_2a_3a, y3_train_split_1a_2a_3b = model[2], model[3]"
   ]
  },
  {
   "cell_type": "markdown",
   "metadata": {},
   "source": [
    "### Saving nodes in tree"
   ]
  },
  {
   "cell_type": "code",
   "execution_count": 201,
   "metadata": {
    "collapsed": true
   },
   "outputs": [],
   "source": [
    "t1a_2a.data = [model[4], model[5]]\n",
    "t1a_2a_3a = Tree('1a_2a_3a')\n",
    "t1a_2a.left = t1a_2a_3a\n",
    "t1a_2a_3a.data = [y3_train_split_1a_2a_3a.mean(), y3_train_split_1a_2a_3a]    # saving mean value in leaf node\n",
    "t1a_2a_3b = Tree('1a_2a_3b')\n",
    "t1a_2a.right = t1a_2a_3b"
   ]
  },
  {
   "cell_type": "markdown",
   "metadata": {},
   "source": [
    "# Splitting node 1a_2a_3b"
   ]
  },
  {
   "cell_type": "code",
   "execution_count": 202,
   "metadata": {},
   "outputs": [
    {
     "name": "stdout",
     "output_type": "stream",
     "text": [
      "Correlation of output with fixed acidity\t\t-0.1849875628044388\n",
      "Correlation of output with volatile acidity\t\t0.025519740125877266\n",
      "Correlation of output with citric acid\t\t-0.06020524867036842\n",
      "Correlation of output with residual sugar\t\t-0.017306213514716826\n",
      "Correlation of output with chlorides\t\t-0.13123368152715617\n",
      "Correlation of output with free sulfur dioxide\t\t0.4334476134565866\n",
      "Correlation of output with total sulfur dioxide\t\t0.14178435504363268\n",
      "Correlation of output with density\t\t-0.10418299153330153\n",
      "Correlation of output with pH\t\t0.2109706385877491\n",
      "Correlation of output with sulphates\t\t0.1727841539585724\n",
      "Correlation of output with alcohol\t\t0.23460662536309848\n",
      "\n",
      " Maximun correlated feature is: \tfree sulfur dioxide\n",
      "\n",
      " Median value for spliting feature: \t20.0\n",
      "\n",
      " MSE for node left child: \t0.5480971632864446\n",
      "\n",
      " MSE for node right child: \t1.1533768078512405\n"
     ]
    }
   ],
   "source": [
    "model = split(X3_train_split_1a_2a_3b, y3_train_split_1a_2a_3b)  # model contains datasets after split"
   ]
  },
  {
   "cell_type": "markdown",
   "metadata": {},
   "source": [
    "### No need to expand further as we are at level 4 (to protect model from overfitting)"
   ]
  },
  {
   "cell_type": "code",
   "execution_count": 140,
   "metadata": {
    "collapsed": true
   },
   "outputs": [],
   "source": [
    "X3_train_split_1a_2a_3b_4a, X3_train_split_1a_2a_3b_4b  = model[0], model[1]\n",
    "y3_train_split_1a_2a_3b_4a, y3_train_split_1a_2a_3b_4b = model[2], model[3]"
   ]
  },
  {
   "cell_type": "markdown",
   "metadata": {},
   "source": [
    "### Saving nodes in tree"
   ]
  },
  {
   "cell_type": "code",
   "execution_count": 203,
   "metadata": {
    "collapsed": true
   },
   "outputs": [],
   "source": [
    "t1a_2a_3b.data = [model[4], model[5]]\n",
    "\n",
    "t1a_2a_3b_4a = Tree('1a_2a_3b_4a')\n",
    "t1a_2a_3b.left = t1a_2a_3b_4a\n",
    "t1a_2a_3b_4a.data = [y3_train_split_1a_2a_3b_4a.mean(), y3_train_split_1a_2a_3b_4a]  # saving mean value in leaf node\n",
    "\n",
    "t1a_2a_3b_4b = Tree('1a_2a_3b_4b')\n",
    "t1a_2a_3b.right = t1a_2a_3b_4b\n",
    "t1a_2a_3b_4b.data = [y3_train_split_1a_2a_3b_4b.mean(), y3_train_split_1a_2a_3b_4b]   # saving mean value in leaf node"
   ]
  },
  {
   "cell_type": "markdown",
   "metadata": {},
   "source": [
    "# Tree Structure Completed"
   ]
  },
  {
   "cell_type": "markdown",
   "metadata": {},
   "source": [
    "### Function for traversing tree"
   ]
  },
  {
   "cell_type": "code",
   "execution_count": 204,
   "metadata": {
    "collapsed": true
   },
   "outputs": [],
   "source": [
    "def preorder(tree):\n",
    "    if tree:\n",
    "        print('\\nNode name: \\t\\t\\t\\t' + str(tree.name))\n",
    "        if(tree.left == None):\n",
    "            print('Leaf Node')\n",
    "            print('Population of leaf node is: \\t\\t' + str(tree.data[1].size))\n",
    "            print('Avg. value at leaf node is: \\t\\t' + str(tree.data[0]))\n",
    "        else:\n",
    "            print('Attribute spliting the node is: \\t' + tree.data[0])\n",
    "            print('Mean value that splits the node is: \\t' + str(tree.data[1]))\n",
    "        preorder(tree.left)\n",
    "        preorder(tree.right)\n",
    "\n",
    "def leafNodes(tree):\n",
    "    if tree:\n",
    "        if(tree.left == None):\n",
    "            print('\\nLeaf node name: \\t\\t\\t' + str(tree.name))\n",
    "            print('Population of leaf node is: \\t\\t' + str(tree.data[1].size))\n",
    "            print('Avg. value at leaf node is: \\t\\t' + str(tree.data[0]))\n",
    "        leafNodes(tree.left)\n",
    "        leafNodes(tree.right)"
   ]
  },
  {
   "cell_type": "markdown",
   "metadata": {},
   "source": [
    "## 3 a) Structure of resulting Regression tree "
   ]
  },
  {
   "cell_type": "code",
   "execution_count": 206,
   "metadata": {},
   "outputs": [
    {
     "name": "stdout",
     "output_type": "stream",
     "text": [
      "\n",
      "Node name: \t\t\t\t1\n",
      "Attribute spliting the node is: \talcohol\n",
      "Mean value that splits the node is: \t10.1\n",
      "\n",
      "Node name: \t\t\t\t1a\n",
      "Attribute spliting the node is: \talcohol\n",
      "Mean value that splits the node is: \t11.1\n",
      "\n",
      "Node name: \t\t\t\t1a_2a\n",
      "Attribute spliting the node is: \tfree sulfur dioxide\n",
      "Mean value that splits the node is: \t29.0\n",
      "\n",
      "Node name: \t\t\t\t1a_2a_3a\n",
      "Leaf Node\n",
      "Population of leaf node is: \t\t336\n",
      "Avg. value at leaf node is: \t\t6.633928571428571\n",
      "\n",
      "Node name: \t\t\t\t1a_2a_3b\n",
      "Attribute spliting the node is: \tfree sulfur dioxide\n",
      "Mean value that splits the node is: \t20.0\n",
      "\n",
      "Node name: \t\t\t\t1a_2a_3b_4a\n",
      "Leaf Node\n",
      "Population of leaf node is: \t\t173\n",
      "Avg. value at leaf node is: \t\t6.618497109826589\n",
      "\n",
      "Node name: \t\t\t\t1a_2a_3b_4b\n",
      "Leaf Node\n",
      "Population of leaf node is: \t\t176\n",
      "Avg. value at leaf node is: \t\t5.994318181818182\n",
      "\n",
      "Node name: \t\t\t\t1a_2b\n",
      "Leaf Node\n",
      "Population of leaf node is: \t\t743\n",
      "Avg. value at leaf node is: \t\t5.946164199192463\n",
      "\n",
      "Node name: \t\t\t\t1b\n",
      "Leaf Node\n",
      "Population of leaf node is: \t\t1572\n",
      "Avg. value at leaf node is: \t\t5.510178117048346\n"
     ]
    }
   ],
   "source": [
    "preorder(t1)"
   ]
  },
  {
   "cell_type": "markdown",
   "metadata": {},
   "source": [
    "## Details of leaf Node"
   ]
  },
  {
   "cell_type": "code",
   "execution_count": 207,
   "metadata": {},
   "outputs": [
    {
     "name": "stdout",
     "output_type": "stream",
     "text": [
      "\n",
      "Leaf node name: \t\t\t1a_2a_3a\n",
      "Population of leaf node is: \t\t336\n",
      "Avg. value at leaf node is: \t\t6.633928571428571\n",
      "\n",
      "Leaf node name: \t\t\t1a_2a_3b_4a\n",
      "Population of leaf node is: \t\t173\n",
      "Avg. value at leaf node is: \t\t6.618497109826589\n",
      "\n",
      "Leaf node name: \t\t\t1a_2a_3b_4b\n",
      "Population of leaf node is: \t\t176\n",
      "Avg. value at leaf node is: \t\t5.994318181818182\n",
      "\n",
      "Leaf node name: \t\t\t1a_2b\n",
      "Population of leaf node is: \t\t743\n",
      "Avg. value at leaf node is: \t\t5.946164199192463\n",
      "\n",
      "Leaf node name: \t\t\t1b\n",
      "Population of leaf node is: \t\t1572\n",
      "Avg. value at leaf node is: \t\t5.510178117048346\n"
     ]
    }
   ],
   "source": [
    "leafNodes(t1)"
   ]
  },
  {
   "cell_type": "markdown",
   "metadata": {
    "collapsed": true
   },
   "source": [
    "#### Defining function to predict value & calculate MSE over a tree"
   ]
  },
  {
   "cell_type": "code",
   "execution_count": 211,
   "metadata": {
    "collapsed": true
   },
   "outputs": [],
   "source": [
    "def predictValue(x,rootOfTree):\n",
    "    presentNode = rootOfTree\n",
    "    for i in range(10):\n",
    "        if(presentNode.left == None):\n",
    "            return presentNode.data[0]\n",
    "        elif(x[presentNode.data[0]] > presentNode.data[1]):\n",
    "            presentNode = presentNode.left\n",
    "        else:\n",
    "            presentNode = presentNode.right\n",
    "\n",
    "            \n",
    "def MSETree(X,y,rootOfTree):\n",
    "    error = 0\n",
    "    for i in range(len(X)):\n",
    "        yPred = predictValue(X.iloc[i],rootOfTree)\n",
    "        error = error + (y.iloc[i] - yPred)**2\n",
    "    return error/len(X)\n",
    "            "
   ]
  },
  {
   "cell_type": "markdown",
   "metadata": {},
   "source": [
    "#### Testing predictValue funtion"
   ]
  },
  {
   "cell_type": "code",
   "execution_count": 212,
   "metadata": {},
   "outputs": [
    {
     "data": {
      "text/plain": [
       "5.510178117048346"
      ]
     },
     "execution_count": 212,
     "metadata": {},
     "output_type": "execute_result"
    }
   ],
   "source": [
    "predictValue(X3_train.iloc[0],t1)"
   ]
  },
  {
   "cell_type": "markdown",
   "metadata": {},
   "source": [
    "### Calculating MSE for training set over the tree"
   ]
  },
  {
   "cell_type": "code",
   "execution_count": 214,
   "metadata": {},
   "outputs": [
    {
     "name": "stdout",
     "output_type": "stream",
     "text": [
      "MSE of traing set over the tree is: \t0.669490686604\n"
     ]
    }
   ],
   "source": [
    "MSETrain = MSETree(X3_train,y3_train,t1)\n",
    "print('MSE of traing set over the tree is: \\t' +str(MSETrain))"
   ]
  },
  {
   "cell_type": "markdown",
   "metadata": {},
   "source": [
    "### Calculating MSE for testing set over the tree"
   ]
  },
  {
   "cell_type": "code",
   "execution_count": 215,
   "metadata": {},
   "outputs": [
    {
     "name": "stdout",
     "output_type": "stream",
     "text": [
      "MSE of testing set over the tree is: \t0.584194924738\n"
     ]
    }
   ],
   "source": [
    "MSETest = MSETree(X3_test,y3_test,t1)\n",
    "print('MSE of testing set over the tree is: \\t' +str(MSETest))"
   ]
  },
  {
   "cell_type": "markdown",
   "metadata": {},
   "source": [
    "#### Defining function to calculate MSE of each leaf node"
   ]
  },
  {
   "cell_type": "code",
   "execution_count": 222,
   "metadata": {
    "collapsed": true
   },
   "outputs": [],
   "source": [
    "    def MSELeafNode(tree):\n",
    "        if tree:\n",
    "            if(tree.left == None):\n",
    "                print('\\nLeaf node name: \\t\\t' + str(tree.name))\n",
    "                MSEAtLeaf = MSE(tree.data[1], tree.data[0])\n",
    "                print('MSE at leaf node is: \\t\\t' + str(MSEAtLeaf))\n",
    "            MSELeafNode(tree.left)\n",
    "            MSELeafNode(tree.right)"
   ]
  },
  {
   "cell_type": "markdown",
   "metadata": {},
   "source": [
    "## 3 b) Analyzing best and worst paths "
   ]
  },
  {
   "cell_type": "code",
   "execution_count": 224,
   "metadata": {},
   "outputs": [
    {
     "name": "stdout",
     "output_type": "stream",
     "text": [
      "\n",
      "Leaf node name: \t\t1a_2a_3a\n",
      "MSE at leaf node is: \t\t0.7439678996598621\n",
      "\n",
      "Leaf node name: \t\t1a_2a_3b_4a\n",
      "MSE at leaf node is: \t\t0.5480971632864446\n",
      "\n",
      "Leaf node name: \t\t1a_2a_3b_4b\n",
      "MSE at leaf node is: \t\t1.1533768078512405\n",
      "\n",
      "Leaf node name: \t\t1a_2b\n",
      "MSE at leaf node is: \t\t0.7750290282203207\n",
      "\n",
      "Leaf node name: \t\t1b\n",
      "MSE at leaf node is: \t\t0.5628735051699983\n"
     ]
    }
   ],
   "source": [
    "MSELeafNode(t1)"
   ]
  },
  {
   "cell_type": "markdown",
   "metadata": {},
   "source": [
    "#### Path to nodes \"1a_2a_3b_4a\" & \"1b\" are best paths as they have really low MSE\n",
    "#### Whereas path to node \"1a_2a_3b_4b\" is worst path as it has high MSE"
   ]
  },
  {
   "cell_type": "markdown",
   "metadata": {
    "collapsed": true
   },
   "source": [
    "# Question 4"
   ]
  },
  {
   "cell_type": "code",
   "execution_count": 225,
   "metadata": {
    "collapsed": true
   },
   "outputs": [],
   "source": [
    "dataRWQ = pd.read_csv('/Volumes/Work/study/U Cincinnati/IDA/assignments/Assign 3/winequality-red.csv')"
   ]
  },
  {
   "cell_type": "code",
   "execution_count": 227,
   "metadata": {},
   "outputs": [
    {
     "name": "stdout",
     "output_type": "stream",
     "text": [
      "<class 'pandas.core.frame.DataFrame'>\n",
      "RangeIndex: 1599 entries, 0 to 1598\n",
      "Data columns (total 12 columns):\n",
      "fixed acidity           1599 non-null float64\n",
      "volatile acidity        1599 non-null float64\n",
      "citric acid             1599 non-null float64\n",
      "residual sugar          1599 non-null float64\n",
      "chlorides               1599 non-null float64\n",
      "free sulfur dioxide     1599 non-null float64\n",
      "total sulfur dioxide    1599 non-null float64\n",
      "density                 1599 non-null float64\n",
      "pH                      1599 non-null float64\n",
      "sulphates               1599 non-null float64\n",
      "alcohol                 1599 non-null float64\n",
      "quality                 1599 non-null int64\n",
      "dtypes: float64(11), int64(1)\n",
      "memory usage: 150.0 KB\n"
     ]
    }
   ],
   "source": [
    "dataRWQ.info()"
   ]
  },
  {
   "cell_type": "code",
   "execution_count": 228,
   "metadata": {},
   "outputs": [
    {
     "data": {
      "text/plain": [
       "(4898, 11)"
      ]
     },
     "execution_count": 228,
     "metadata": {},
     "output_type": "execute_result"
    }
   ],
   "source": [
    "X4 = dataWWQ.loc[:,'fixed acidity':'alcohol']\n",
    "y4 = dataWWQ.loc[:,'quality']\n",
    "X4.shape"
   ]
  },
  {
   "cell_type": "markdown",
   "metadata": {},
   "source": [
    "### Computing MSE of red wines using tree of white wine"
   ]
  },
  {
   "cell_type": "code",
   "execution_count": 230,
   "metadata": {},
   "outputs": [
    {
     "name": "stdout",
     "output_type": "stream",
     "text": [
      "MSE of red wines: \t0.636438143521\n"
     ]
    }
   ],
   "source": [
    "MSERedWine = MSETree(X4,y4,t1)\n",
    "print('MSE of red wines: \\t' + str(MSERedWine))"
   ]
  },
  {
   "cell_type": "markdown",
   "metadata": {},
   "source": [
    "### Comparision of MSE of white wine with red wine"
   ]
  },
  {
   "cell_type": "code",
   "execution_count": 232,
   "metadata": {},
   "outputs": [
    {
     "name": "stdout",
     "output_type": "stream",
     "text": [
      "MSE of red wines: \t0.636438143521\n",
      "MSE of white wines: \t0.584194924738\n"
     ]
    }
   ],
   "source": [
    "print('MSE of red wines: \\t' + str(MSERedWine))\n",
    "print('MSE of white wines: \\t' + str(MSETest))"
   ]
  },
  {
   "cell_type": "markdown",
   "metadata": {},
   "source": [
    "### From the above values it can be concluded that tree model works better on white wines because tree is trained using the values of white wine instances. \n",
    "### But since the difference of MSE values of both the wines are small, white wine tree can be used to predict quality of red wines "
   ]
  },
  {
   "cell_type": "code",
   "execution_count": null,
   "metadata": {
    "collapsed": true
   },
   "outputs": [],
   "source": []
  }
 ],
 "metadata": {
  "kernelspec": {
   "display_name": "Python 3",
   "language": "python",
   "name": "python3"
  },
  "language_info": {
   "codemirror_mode": {
    "name": "ipython",
    "version": 3
   },
   "file_extension": ".py",
   "mimetype": "text/x-python",
   "name": "python",
   "nbconvert_exporter": "python",
   "pygments_lexer": "ipython3",
   "version": "3.6.4"
  }
 },
 "nbformat": 4,
 "nbformat_minor": 2
}
