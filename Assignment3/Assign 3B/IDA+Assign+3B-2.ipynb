{
 "cells": [
  {
   "cell_type": "markdown",
   "metadata": {},
   "source": [
    "# Assignment 3B\n",
    "## Anuj Jain"
   ]
  },
  {
   "cell_type": "code",
   "execution_count": 1,
   "metadata": {},
   "outputs": [],
   "source": [
    "import pandas as pd \n",
    "import numpy as np\n",
    "import matplotlib.pyplot as plt\n",
    "from sklearn.cluster import KMeans\n",
    "from sklearn.utils import shuffle\n",
    "from sklearn.metrics import silhouette_score\n",
    "from sklearn.metrics import silhouette_samples \n",
    "from sklearn.metrics import confusion_matrix\n",
    "from sklearn.metrics import precision_recall_fscore_support\n",
    "from sklearn.metrics import accuracy_score\n",
    "import seaborn as sns"
   ]
  },
  {
   "cell_type": "markdown",
   "metadata": {},
   "source": [
    "## Importing data"
   ]
  },
  {
   "cell_type": "code",
   "execution_count": 5,
   "metadata": {
    "collapsed": true
   },
   "outputs": [],
   "source": [
    "dataBPC = pd.read_csv('/Volumes/Work/study/U Cincinnati/IDA/assignments/Assign 3/wpbc.csv', index_col='ID number') "
   ]
  },
  {
   "cell_type": "code",
   "execution_count": 6,
   "metadata": {},
   "outputs": [
    {
     "name": "stdout",
     "output_type": "stream",
     "text": [
      "<class 'pandas.core.frame.DataFrame'>\n",
      "Int64Index: 198 entries, 119513 to 947489\n",
      "Data columns (total 34 columns):\n",
      "Outcome                198 non-null object\n",
      "Time                   198 non-null int64\n",
      "radius 1               198 non-null float64\n",
      "texture 1              198 non-null float64\n",
      "perimeter 1            198 non-null float64\n",
      "area 1                 198 non-null float64\n",
      "smoothness 1           198 non-null float64\n",
      "compactness 1          198 non-null float64\n",
      "concavity 1            198 non-null float64\n",
      "concave points 1       198 non-null float64\n",
      "symmetry 1             198 non-null float64\n",
      "fractal dimension 1    198 non-null float64\n",
      "radius 2               198 non-null float64\n",
      "texture 2              198 non-null float64\n",
      "perimeter 2            198 non-null float64\n",
      "area 2                 198 non-null float64\n",
      "smoothness 2           198 non-null float64\n",
      "compactness 2          198 non-null float64\n",
      "concavity 2            198 non-null float64\n",
      "concave points 2       198 non-null float64\n",
      "symmetry 2             198 non-null float64\n",
      "fractal dimension 2    198 non-null float64\n",
      "radius 3               198 non-null float64\n",
      "texture 3              198 non-null float64\n",
      "perimeter 3            198 non-null float64\n",
      "area 3                 198 non-null float64\n",
      "smoothness 3           198 non-null float64\n",
      "compactness 3          198 non-null float64\n",
      "concavity 3            198 non-null float64\n",
      "concave points 3       198 non-null float64\n",
      "symmetry 3             198 non-null float64\n",
      "fractal dimension 3    198 non-null float64\n",
      "Tumor size             198 non-null float64\n",
      "Lymph node status      194 non-null float64\n",
      "dtypes: float64(32), int64(1), object(1)\n",
      "memory usage: 54.1+ KB\n"
     ]
    }
   ],
   "source": [
    "dataBPC.info()"
   ]
  },
  {
   "cell_type": "code",
   "execution_count": 7,
   "metadata": {
    "collapsed": true
   },
   "outputs": [],
   "source": [
    "#### Lymph node has 4 missing values"
   ]
  },
  {
   "cell_type": "markdown",
   "metadata": {},
   "source": [
    "### Filling missing values"
   ]
  },
  {
   "cell_type": "code",
   "execution_count": 8,
   "metadata": {
    "collapsed": true
   },
   "outputs": [],
   "source": [
    "dataBPC['Lymph node status'].fillna(dataBPC['Lymph node status'].median(), inplace = True)"
   ]
  },
  {
   "cell_type": "markdown",
   "metadata": {},
   "source": [
    "# Question 1\n",
    "### Selecting required columns"
   ]
  },
  {
   "cell_type": "code",
   "execution_count": 9,
   "metadata": {
    "collapsed": true
   },
   "outputs": [],
   "source": [
    "X1 = dataBPC.loc[:,'radius 1':'Lymph node status']\n",
    "y1 = dataBPC['Outcome']"
   ]
  },
  {
   "cell_type": "markdown",
   "metadata": {},
   "source": [
    "## 1a)"
   ]
  },
  {
   "cell_type": "markdown",
   "metadata": {},
   "source": [
    "### Making function to calculate SSE for each cluster"
   ]
  },
  {
   "cell_type": "code",
   "execution_count": 10,
   "metadata": {
    "collapsed": true
   },
   "outputs": [],
   "source": [
    "def SSEPerCluster(centers, labels, X):\n",
    "    SSEOfEachCluster=[]\n",
    "    for i in range(len(centers)):\n",
    "        SSE = np.sum(np.sum((X[labels==i] - centers[i])**2))\n",
    "        SSEOfEachCluster.append(SSE)\n",
    "        print('SSE of cluster ' + str(i) + ' is: \\t' + str(SSE))\n",
    "    return SSEOfEachCluster"
   ]
  },
  {
   "cell_type": "markdown",
   "metadata": {
    "collapsed": true
   },
   "source": [
    "### Running K means 3 times"
   ]
  },
  {
   "cell_type": "code",
   "execution_count": 11,
   "metadata": {
    "collapsed": true
   },
   "outputs": [],
   "source": [
    "n_clusters = 4"
   ]
  },
  {
   "cell_type": "code",
   "execution_count": 12,
   "metadata": {},
   "outputs": [
    {
     "name": "stdout",
     "output_type": "stream",
     "text": [
      "SSE of cluster 0 is: \t3095911.197061971\n",
      "SSE of cluster 1 is: \t3395996.8899589726\n",
      "SSE of cluster 2 is: \t3024037.491042756\n",
      "SSE of cluster 3 is: \t2452939.2794283126\n",
      "Total SSE is: \t11968884.8575\n",
      "\n",
      " Cluster centers are:\n",
      "[[  2.06943590e+01   2.27648718e+01   1.37466667e+02   1.33373333e+03\n",
      "    1.02547179e-01   1.63605641e-01   2.03023333e-01   1.13464359e-01\n",
      "    1.97112821e-01   6.11325641e-02   8.00620513e-01   1.25430769e+00\n",
      "    5.66735897e+00   1.05393077e+02   6.46964103e-03   3.36861538e-02\n",
      "    4.45279487e-02   1.60099487e-02   2.03479487e-02   3.91723077e-03\n",
      "    2.55200000e+01   2.98020513e+01   1.71187179e+02   1.99917949e+03\n",
      "    1.39948974e-01   3.88051282e-01   4.85079487e-01   2.06971282e-01\n",
      "    3.24574359e-01   8.71279487e-02   3.43589744e+00   4.35897436e+00]\n",
      " [  1.80736111e+01   2.21644444e+01   1.18891667e+02   1.01715972e+03\n",
      "    1.00192778e-01   1.35127222e-01   1.49740694e-01   8.78423611e-02\n",
      "    1.91263889e-01   6.05190278e-02   6.35109722e-01   1.31407222e+00\n",
      "    4.42997222e+00   7.22666667e+01   6.69909722e-03   3.00197083e-02\n",
      "    4.05502778e-02   1.58253333e-02   2.09968472e-02   3.91911111e-03\n",
      "    2.15563889e+01   2.96759722e+01   1.43134722e+02   1.42073611e+03\n",
      "    1.38678194e-01   3.29336111e-01   4.08220972e-01   1.75341667e-01\n",
      "    3.11904167e-01   8.47906944e-02   3.07500000e+00   3.05555556e+00]\n",
      " [  1.43300000e+01   2.17933766e+01   9.42207792e+01   6.40233766e+02\n",
      "    1.04967013e-01   1.36427013e-01   1.28980909e-01   6.55770130e-02\n",
      "    1.92972727e-01   6.59350649e-02   3.99290909e-01   1.21671558e+00\n",
      "    2.88248052e+00   3.57528571e+01   7.12903896e-03   3.16628701e-02\n",
      "    3.93915584e-02   1.39925974e-02   2.06202468e-02   4.17268831e-03\n",
      "    1.69179221e+01   3.03093506e+01   1.13196883e+02   8.81270130e+02\n",
      "    1.51371039e-01   3.89264416e-01   4.33968571e-01   1.61582727e-01\n",
      "    3.37996104e-01   9.95046753e-02   2.32337662e+00   2.84415584e+00]\n",
      " [  2.35850000e+01   2.48890000e+01   1.56520000e+02   1.75190000e+03\n",
      "    1.03524000e-01   1.62960000e-01   2.30530000e-01   1.38238000e-01\n",
      "    1.84800000e-01   5.97150000e-02   1.17651000e+00   1.31428000e+00\n",
      "    8.06320000e+00   1.83879000e+02   5.52620000e-03   2.64240000e-02\n",
      "    3.79100000e-02   1.48410000e-02   1.76760000e-02   3.31620000e-03\n",
      "    3.12300000e+01   3.34770000e+01   2.09070000e+02   3.00630000e+03\n",
      "    1.39790000e-01   3.47060000e-01   4.73810000e-01   2.25960000e-01\n",
      "    2.89280000e-01   8.19190000e-02   2.95000000e+00   1.80000000e+00]]\n"
     ]
    }
   ],
   "source": [
    "kmeans1 = KMeans(n_clusters=n_clusters,init='random', random_state=20).fit(X1)\n",
    "kmeans1.sse = SSEPerCluster(kmeans1.cluster_centers_, kmeans1.labels_, X1)\n",
    "print('Total SSE is: \\t' + str(kmeans1.inertia_))\n",
    "print('\\n Cluster centers are:\\n' + str(kmeans1.cluster_centers_))"
   ]
  },
  {
   "cell_type": "code",
   "execution_count": 57,
   "metadata": {},
   "outputs": [
    {
     "name": "stdout",
     "output_type": "stream",
     "text": [
      "SSE of cluster 0 is: \t2494725.2375164237\n",
      "SSE of cluster 1 is: \t2773885.1224440215\n",
      "SSE of cluster 2 is: \t2795136.2579302127\n",
      "SSE of cluster 3 is: \t3878789.558271524\n",
      "Total SSE is: \t11942536.1762\n",
      "\n",
      " Cluster centers are:\n",
      "[[  1.41723611e+01   2.16708333e+01   9.32708333e+01   6.25316667e+02\n",
      "    1.05880278e-01   1.39142639e-01   1.31299167e-01   6.65175000e-02\n",
      "    1.94956944e-01   6.65120833e-02   3.98543056e-01   1.22164167e+00\n",
      "    2.87844444e+00   3.52502778e+01   6.92375000e-03   3.15364167e-02\n",
      "    3.86712500e-02   1.38303056e-02   2.08785972e-02   4.12936111e-03\n",
      "    1.67775000e+01   3.02890278e+01   1.12335556e+02   8.66080556e+02\n",
      "    1.53324583e-01   3.99206389e-01   4.45023333e-01   1.64510417e-01\n",
      "    3.41261111e-01   1.01010139e-01   2.31805556e+00   2.98611111e+00]\n",
      " [  1.77074627e+01   2.24034328e+01   1.16374627e+02   9.75891045e+02\n",
      "    1.00082239e-01   1.32492985e-01   1.43834627e-01   8.39279104e-02\n",
      "    1.89725373e-01   6.05682090e-02   6.09897015e-01   1.33902836e+00\n",
      "    4.24725373e+00   6.80217910e+01   6.85402985e-03   3.04984776e-02\n",
      "    4.04555224e-02   1.57127164e-02   2.04440746e-02   4.00385075e-03\n",
      "    2.11005970e+01   3.00483582e+01   1.39823881e+02   1.36289552e+03\n",
      "    1.37570597e-01   3.24489552e-01   3.95588209e-01   1.70476418e-01\n",
      "    3.10500000e-01   8.46374627e-02   2.97462687e+00   2.97014925e+00]\n",
      " [  2.35563636e+01   2.46300000e+01   1.56118182e+02   1.74590909e+03\n",
      "    1.01784545e-01   1.58554545e-01   2.21609091e-01   1.34490909e-01\n",
      "    1.84372727e-01   5.93345455e-02   1.12993636e+00   1.27262727e+00\n",
      "    7.74863636e+00   1.76058182e+02   5.47018182e-03   2.63345455e-02\n",
      "    3.70290909e-02   1.49672727e-02   1.78472727e-02   3.35472727e-03\n",
      "    3.09372727e+01   3.29990909e+01   2.06809091e+02   2.95145455e+03\n",
      "    1.38245455e-01   3.48081818e-01   4.66627273e-01   2.26745455e-01\n",
      "    2.95609091e-01   8.28236364e-02   2.77272727e+00   1.90909091e+00]\n",
      " [  2.04522917e+01   2.24664583e+01   1.35660417e+02   1.30115833e+03\n",
      "    1.01716667e-01   1.58434583e-01   1.95998125e-01   1.10202917e-01\n",
      "    1.95597917e-01   6.07514583e-02   7.80731250e-01   1.22268958e+00\n",
      "    5.53164583e+00   1.01524375e+02   6.68639583e-03   3.27866667e-02\n",
      "    4.51310417e-02   1.61766250e-02   2.08443750e-02   3.89443750e-03\n",
      "    2.50060417e+01   2.93854167e+01   1.67866667e+02   1.91758333e+03\n",
      "    1.39979375e-01   3.74533333e-01   4.74681250e-01   2.00772500e-01\n",
      "    3.21000000e-01   8.60306250e-02   3.48125000e+00   4.00000000e+00]]\n"
     ]
    }
   ],
   "source": [
    "kmeans2 = KMeans(n_clusters=n_clusters,init='random', random_state=10).fit(X1)\n",
    "kmeans2.sse = SSEPerCluster(kmeans2.cluster_centers_, kmeans2.labels_, X1)\n",
    "print('Total SSE is: \\t' + str(kmeans2.inertia_))\n",
    "print('\\n Cluster centers are:\\n' + str(kmeans2.cluster_centers_))"
   ]
  },
  {
   "cell_type": "code",
   "execution_count": 55,
   "metadata": {},
   "outputs": [
    {
     "name": "stdout",
     "output_type": "stream",
     "text": [
      "SSE of cluster 0 is: \t3641169.4862160245\n",
      "SSE of cluster 1 is: \t3138086.1676194593\n",
      "SSE of cluster 2 is: \t3456453.3035555566\n",
      "SSE of cluster 3 is: \t1761757.7451936712\n",
      "Total SSE is: \t11997466.7026\n",
      "\n",
      " Cluster centers are:\n",
      "[[  1.78480597e+01   2.22656716e+01   1.17350746e+02   9.91886567e+02\n",
      "    1.00178955e-01   1.34083731e-01   1.47061642e-01   8.59271642e-02\n",
      "    1.91102985e-01   6.06619403e-02   6.29235821e-01   1.32895821e+00\n",
      "    4.36495522e+00   7.10588060e+01   6.67104478e-03   3.00116119e-02\n",
      "    4.03868657e-02   1.57373881e-02   2.09181045e-02   3.99294030e-03\n",
      "    2.12870149e+01   2.98356716e+01   1.40994030e+02   1.38655224e+03\n",
      "    1.38106418e-01   3.24928358e-01   4.03122537e-01   1.73323134e-01\n",
      "    3.10410448e-01   8.50255224e-02   3.03432836e+00   2.92537313e+00]\n",
      " [  2.35563636e+01   2.46300000e+01   1.56118182e+02   1.74590909e+03\n",
      "    1.01784545e-01   1.58554545e-01   2.21609091e-01   1.34490909e-01\n",
      "    1.84372727e-01   5.93345455e-02   1.12993636e+00   1.27262727e+00\n",
      "    7.74863636e+00   1.76058182e+02   5.47018182e-03   2.63345455e-02\n",
      "    3.70290909e-02   1.49672727e-02   1.78472727e-02   3.35472727e-03\n",
      "    3.09372727e+01   3.29990909e+01   2.06809091e+02   2.95145455e+03\n",
      "    1.38245455e-01   3.48081818e-01   4.66627273e-01   2.26745455e-01\n",
      "    2.95609091e-01   8.28236364e-02   2.77272727e+00   1.90909091e+00]\n",
      " [  1.42772000e+01   2.16902667e+01   9.39200000e+01   6.35228000e+02\n",
      "    1.05544667e-01   1.37811867e-01   1.30747067e-01   6.61757333e-02\n",
      "    1.93961333e-01   6.61806667e-02   3.98793333e-01   1.21900133e+00\n",
      "    2.88080000e+00   3.55188000e+01   7.18672000e-03   3.18861600e-02\n",
      "    3.96645333e-02   1.40569200e-02   2.07997200e-02   4.19150667e-03\n",
      "    1.68601333e+01   3.02109333e+01   1.12875467e+02   8.74450667e+02\n",
      "    1.52314267e-01   3.93451467e-01   4.39058400e-01   1.62670933e-01\n",
      "    3.40121333e-01   9.99885333e-02   2.31200000e+00   2.90666667e+00]\n",
      " [  2.04868889e+01   2.26922222e+01   1.35951111e+02   1.30588000e+03\n",
      "    1.01854444e-01   1.59570222e-01   1.96426889e-01   1.10708222e-01\n",
      "    1.95248889e-01   6.07802222e-02   7.77000000e-01   1.24215333e+00\n",
      "    5.52935556e+00   1.00973333e+02   6.50473333e-03   3.30120000e-02\n",
      "    4.40084444e-02   1.59186222e-02   2.02677778e-02   3.79144444e-03\n",
      "    2.51393333e+01   2.97720000e+01   1.68926667e+02   1.93851111e+03\n",
      "    1.39975778e-01   3.81826667e-01   4.75382222e-01   2.02017333e-01\n",
      "    3.21682222e-01   8.61568889e-02   3.48000000e+00   4.26666667e+00]]\n"
     ]
    }
   ],
   "source": [
    "kmeans3 = KMeans(n_clusters=n_clusters, init='random', random_state=None).fit(X1)\n",
    "kmeans3.sse = SSEPerCluster(kmeans2.cluster_centers_, kmeans2.labels_, X1)\n",
    "print('Total SSE is: \\t' + str(kmeans2.inertia_))\n",
    "print('\\n Cluster centers are:\\n' + str(kmeans3.cluster_centers_))"
   ]
  },
  {
   "cell_type": "markdown",
   "metadata": {},
   "source": [
    "## 1 b) Selecting the best of the above 3 clustering"
   ]
  },
  {
   "cell_type": "code",
   "execution_count": 58,
   "metadata": {},
   "outputs": [
    {
     "name": "stdout",
     "output_type": "stream",
     "text": [
      "SSE values for all three clusters are:\n",
      "[11968884.857492009, 11942536.17616218, 11950932.50960171]\n",
      "\n",
      "Best cluster is: Cluster 2\n",
      "Minimum value of SSE for best clustering is: \t11942536.1762\n"
     ]
    }
   ],
   "source": [
    "kmeans = [kmeans1, kmeans2, kmeans3]\n",
    "SSEValues = [kmeans1.inertia_, kmeans2.inertia_, kmeans3.inertia_]\n",
    "print('SSE values for all three clusters are:\\n'+ str(SSEValues))\n",
    "bestSSEValueIndex = SSEValues.index(min(SSEValues))\n",
    "print('\\nBest cluster is: Cluster '+ str(bestSSEValueIndex+1))\n",
    "bestKmeans = kmeans[bestSSEValueIndex]\n",
    "print('Minimum value of SSE for best clustering is: \\t' + str(min(SSEValues)))\n",
    "clusterLabels = bestKmeans.labels_\n",
    "clusterCenters = bestKmeans.cluster_centers_"
   ]
  },
  {
   "cell_type": "markdown",
   "metadata": {},
   "source": [
    "### We have selected the cluster having the minimun value of SSE"
   ]
  },
  {
   "cell_type": "markdown",
   "metadata": {},
   "source": [
    "## 1 c)"
   ]
  },
  {
   "cell_type": "code",
   "execution_count": 59,
   "metadata": {},
   "outputs": [
    {
     "name": "stdout",
     "output_type": "stream",
     "text": [
      "Average value of Silhouette of all the sample points is:\t0.497192846249\n"
     ]
    }
   ],
   "source": [
    "AvgSilhouetteScoreOfCluster = silhouette_score(X1, clusterLabels)\n",
    "print('Average value of Silhouette of all the sample points is:\\t'+ str(AvgSilhouetteScoreOfCluster))"
   ]
  },
  {
   "cell_type": "markdown",
   "metadata": {},
   "source": [
    "### Plotting silhouette of each sample"
   ]
  },
  {
   "cell_type": "code",
   "execution_count": 60,
   "metadata": {
    "collapsed": true
   },
   "outputs": [],
   "source": [
    "silhouettePerSample = silhouette_samples(X1, clusterLabels)"
   ]
  },
  {
   "cell_type": "code",
   "execution_count": 62,
   "metadata": {},
   "outputs": [
    {
     "name": "stdout",
     "output_type": "stream",
     "text": [
      "Different colors shows samples of different clusters\n"
     ]
    },
    {
     "data": {
      "image/png": "[encoded data removed]",
      "text/plain": [
       "<matplotlib.figure.Figure at 0x1a19a51940>"
      ]
     },
     "metadata": {},
     "output_type": "display_data"
    }
   ],
   "source": [
    "%matplotlib inline\n",
    "plt.scatter(range(len(X1)),silhouettePerSample, c=clusterLabels)\n",
    "plt.figsize = (25,20)\n",
    "plt.xlabel(\"Samples\")\n",
    "plt.ylabel(\"Silhouette Values\")\n",
    "plt.title(\"Silhouette Coefficients of each sample\")\n",
    "print('Different colors shows samples of different clusters')"
   ]
  },
  {
   "cell_type": "markdown",
   "metadata": {},
   "source": [
    "##  Computing the average Silhouette coefficient for each cluster "
   ]
  },
  {
   "cell_type": "code",
   "execution_count": 63,
   "metadata": {},
   "outputs": [
    {
     "name": "stdout",
     "output_type": "stream",
     "text": [
      "Silhoutte Coefficient for cluster 0 = 0.613225962229\n",
      "Silhoutte Coefficient for cluster 1 = 0.459565404807\n",
      "Silhoutte Coefficient for cluster 2 = 0.382253144675\n",
      "Silhoutte Coefficient for cluster 3 = 0.40200515757\n"
     ]
    }
   ],
   "source": [
    "silhouettePerCluster = []\n",
    "for i in range(n_clusters):\n",
    "    cluster_samples = silhouettePerSample[clusterLabels == i]\n",
    "    avg_cluster_silhouette = np.sum(cluster_samples, axis=0)/len(cluster_samples)\n",
    "    silhouettePerCluster.append(avg_cluster_silhouette)\n",
    "    print(\"Silhoutte Coefficient for cluster \"+str(i)+\" = \"+str(avg_cluster_silhouette))"
   ]
  },
  {
   "cell_type": "code",
   "execution_count": 64,
   "metadata": {},
   "outputs": [
    {
     "data": {
      "text/plain": [
       "Text(0.5,1,'Silhouette Coefficients of different clusters')"
      ]
     },
     "execution_count": 64,
     "metadata": {},
     "output_type": "execute_result"
    },
    {
     "data": {
      "image/png": "[encoded data removed]",
      "text/plain": [
       "<matplotlib.figure.Figure at 0x1a19b895f8>"
      ]
     },
     "metadata": {},
     "output_type": "display_data"
    }
   ],
   "source": [
    "%matplotlib inline\n",
    "plt.bar(range(n_clusters),silhouettePerCluster)\n",
    "plt.xticks(range(n_clusters), ['Cluster 0', 'Cluster 1', 'Cluster 2', 'Cluster 3'])\n",
    "plt.figsize = (25,20)\n",
    "plt.ylabel(\"Avg. Silhouette Values\")\n",
    "plt.title(\"Silhouette Coefficients of different clusters\")"
   ]
  },
  {
   "cell_type": "markdown",
   "metadata": {},
   "source": [
    "## 1 d) Assigning Lable to each cluster"
   ]
  },
  {
   "cell_type": "markdown",
   "metadata": {
    "collapsed": true
   },
   "source": [
    "### Defining function to count lables of data points in the cluster and the assign majority class to that cluster"
   ]
  },
  {
   "cell_type": "code",
   "execution_count": 68,
   "metadata": {
    "collapsed": true
   },
   "outputs": [],
   "source": [
    "cluster_Class = []\n",
    "def setLabelToEachCluster():\n",
    "    sse = bestKmeans.sse\n",
    "    for i in range(n_clusters):\n",
    "        print('\\nCluster ' + str(i))\n",
    "        labels = (y1[clusterLabels == i]).value_counts()\n",
    "        print('Class assigned to cluster ' + str(i) + ' is: \\t' + str(labels.idxmax()))\n",
    "        print('No. of \\'N\\' and \\'R\\' labels: ' + '\\n' + str(labels))\n",
    "        cluster_Class.append(labels.idxmax())\n",
    "        fraction = labels.max()/(labels.max()+labels.min())\n",
    "        print('Fraction of points that has the class label: \\t'+ str(fraction))\n",
    "        print('\\nCluster center: \\n' + str(clusterCenters[i]))\n",
    "        print('Cluster SSE: \\t' + str(sse[i])+ '\\n\\n')\n",
    "        "
   ]
  },
  {
   "cell_type": "markdown",
   "metadata": {},
   "source": [
    "#### Reporting the class label,  the fraction of points that have the class label, cluster center and its SSE"
   ]
  },
  {
   "cell_type": "code",
   "execution_count": 69,
   "metadata": {},
   "outputs": [
    {
     "name": "stdout",
     "output_type": "stream",
     "text": [
      "\n",
      "Cluster 0\n",
      "Class assigned to cluster 0 is: \tN\n",
      "No. of 'N' and 'R' labels: \n",
      "N    61\n",
      "R    11\n",
      "Name: Outcome, dtype: int64\n",
      "Fraction of points that has the class label: \t0.847222222222\n",
      "\n",
      "Cluster center: \n",
      "[  1.41723611e+01   2.16708333e+01   9.32708333e+01   6.25316667e+02\n",
      "   1.05880278e-01   1.39142639e-01   1.31299167e-01   6.65175000e-02\n",
      "   1.94956944e-01   6.65120833e-02   3.98543056e-01   1.22164167e+00\n",
      "   2.87844444e+00   3.52502778e+01   6.92375000e-03   3.15364167e-02\n",
      "   3.86712500e-02   1.38303056e-02   2.08785972e-02   4.12936111e-03\n",
      "   1.67775000e+01   3.02890278e+01   1.12335556e+02   8.66080556e+02\n",
      "   1.53324583e-01   3.99206389e-01   4.45023333e-01   1.64510417e-01\n",
      "   3.41261111e-01   1.01010139e-01   2.31805556e+00   2.98611111e+00]\n",
      "Cluster SSE: \t2494725.2375164237\n",
      "\n",
      "\n",
      "\n",
      "Cluster 1\n",
      "Class assigned to cluster 1 is: \tN\n",
      "No. of 'N' and 'R' labels: \n",
      "N    49\n",
      "R    18\n",
      "Name: Outcome, dtype: int64\n",
      "Fraction of points that has the class label: \t0.731343283582\n",
      "\n",
      "Cluster center: \n",
      "[  1.77074627e+01   2.24034328e+01   1.16374627e+02   9.75891045e+02\n",
      "   1.00082239e-01   1.32492985e-01   1.43834627e-01   8.39279104e-02\n",
      "   1.89725373e-01   6.05682090e-02   6.09897015e-01   1.33902836e+00\n",
      "   4.24725373e+00   6.80217910e+01   6.85402985e-03   3.04984776e-02\n",
      "   4.04555224e-02   1.57127164e-02   2.04440746e-02   4.00385075e-03\n",
      "   2.11005970e+01   3.00483582e+01   1.39823881e+02   1.36289552e+03\n",
      "   1.37570597e-01   3.24489552e-01   3.95588209e-01   1.70476418e-01\n",
      "   3.10500000e-01   8.46374627e-02   2.97462687e+00   2.97014925e+00]\n",
      "Cluster SSE: \t2773885.1224440215\n",
      "\n",
      "\n",
      "\n",
      "Cluster 2\n",
      "Class assigned to cluster 2 is: \tN\n",
      "No. of 'N' and 'R' labels: \n",
      "N    6\n",
      "R    5\n",
      "Name: Outcome, dtype: int64\n",
      "Fraction of points that has the class label: \t0.545454545455\n",
      "\n",
      "Cluster center: \n",
      "[  2.35563636e+01   2.46300000e+01   1.56118182e+02   1.74590909e+03\n",
      "   1.01784545e-01   1.58554545e-01   2.21609091e-01   1.34490909e-01\n",
      "   1.84372727e-01   5.93345455e-02   1.12993636e+00   1.27262727e+00\n",
      "   7.74863636e+00   1.76058182e+02   5.47018182e-03   2.63345455e-02\n",
      "   3.70290909e-02   1.49672727e-02   1.78472727e-02   3.35472727e-03\n",
      "   3.09372727e+01   3.29990909e+01   2.06809091e+02   2.95145455e+03\n",
      "   1.38245455e-01   3.48081818e-01   4.66627273e-01   2.26745455e-01\n",
      "   2.95609091e-01   8.28236364e-02   2.77272727e+00   1.90909091e+00]\n",
      "Cluster SSE: \t2795136.2579302127\n",
      "\n",
      "\n",
      "\n",
      "Cluster 3\n",
      "Class assigned to cluster 3 is: \tN\n",
      "No. of 'N' and 'R' labels: \n",
      "N    35\n",
      "R    13\n",
      "Name: Outcome, dtype: int64\n",
      "Fraction of points that has the class label: \t0.729166666667\n",
      "\n",
      "Cluster center: \n",
      "[  2.04522917e+01   2.24664583e+01   1.35660417e+02   1.30115833e+03\n",
      "   1.01716667e-01   1.58434583e-01   1.95998125e-01   1.10202917e-01\n",
      "   1.95597917e-01   6.07514583e-02   7.80731250e-01   1.22268958e+00\n",
      "   5.53164583e+00   1.01524375e+02   6.68639583e-03   3.27866667e-02\n",
      "   4.51310417e-02   1.61766250e-02   2.08443750e-02   3.89443750e-03\n",
      "   2.50060417e+01   2.93854167e+01   1.67866667e+02   1.91758333e+03\n",
      "   1.39979375e-01   3.74533333e-01   4.74681250e-01   2.00772500e-01\n",
      "   3.21000000e-01   8.60306250e-02   3.48125000e+00   4.00000000e+00]\n",
      "Cluster SSE: \t3878789.558271524\n",
      "\n",
      "\n"
     ]
    }
   ],
   "source": [
    "setLabelToEachCluster()"
   ]
  },
  {
   "cell_type": "markdown",
   "metadata": {},
   "source": [
    "## 1 e)"
   ]
  },
  {
   "cell_type": "code",
   "execution_count": 27,
   "metadata": {
    "collapsed": true
   },
   "outputs": [],
   "source": [
    "Xtest = X1"
   ]
  },
  {
   "cell_type": "markdown",
   "metadata": {},
   "source": [
    "### Function to predict class for each test sample"
   ]
  },
  {
   "cell_type": "code",
   "execution_count": 28,
   "metadata": {
    "collapsed": true
   },
   "outputs": [],
   "source": [
    "def predCluster(x,centers):\n",
    "    dist = np.sum((centers - np.array(x))**2, axis=1)\n",
    "    dist = dist.tolist()\n",
    "    index = dist.index(min(dist))  \n",
    "    return index\n",
    "        \n",
    "def predClass(X):\n",
    "    yPred=[]\n",
    "    for i in range(len(X)):\n",
    "        cluster_assigned = predCluster(X[i:i+1], clusterCenters)\n",
    "        yPred.append(cluster_Class[cluster_assigned])\n",
    "    return yPred    "
   ]
  },
  {
   "cell_type": "code",
   "execution_count": 29,
   "metadata": {
    "collapsed": true
   },
   "outputs": [],
   "source": [
    "yPred = predClass(Xtest)"
   ]
  },
  {
   "cell_type": "markdown",
   "metadata": {},
   "source": [
    "### Making confusion matrix"
   ]
  },
  {
   "cell_type": "code",
   "execution_count": 35,
   "metadata": {
    "collapsed": true
   },
   "outputs": [],
   "source": [
    "ab =confusion_matrix(y1, yPred)"
   ]
  },
  {
   "cell_type": "code",
   "execution_count": 34,
   "metadata": {},
   "outputs": [
    {
     "data": {
      "image/png": "[encoded data removed]",
      "text/plain": [
       "<matplotlib.figure.Figure at 0x1a194b51d0>"
      ]
     },
     "metadata": {},
     "output_type": "display_data"
    }
   ],
   "source": [
    "sns.heatmap(ab.T, square=True, annot=True, cbar=False,\n",
    "                    xticklabels=['N','R'], yticklabels=['N', 'R'], cmap='Blues', fmt='g')\n",
    "plt.xlabel('true label')\n",
    "plt.ylabel('predi\n",
    "           cted label');\n",
    "plt.title('Confusion Matrix of average values\\n')\n",
    "plt.show()"
   ]
  },
  {
   "cell_type": "markdown",
   "metadata": {},
   "source": [
    "###  Computing accuracy, precision and recall values."
   ]
  },
  {
   "cell_type": "code",
   "execution_count": 77,
   "metadata": {},
   "outputs": [
    {
     "name": "stdout",
     "output_type": "stream",
     "text": [
      "             precision    recall  f1-score   support\n",
      "\n",
      "          N       0.76      1.00      0.87       151\n",
      "          R       0.00      0.00      0.00        47\n",
      "\n",
      "avg / total       0.58      0.76      0.66       198\n",
      "\n",
      "\n",
      "Accuracy: \t 0.762626262626\n"
     ]
    },
    {
     "name": "stderr",
     "output_type": "stream",
     "text": [
      "/Users/user/anaconda3/lib/python3.6/site-packages/sklearn/metrics/classification.py:1135: UndefinedMetricWarning: Precision and F-score are ill-defined and being set to 0.0 in labels with no predicted samples.\n",
      "  'precision', 'predicted', average, warn_for)\n"
     ]
    }
   ],
   "source": [
    "from sklearn.metrics import classification_report\n",
    "print(classification_report(y1, yPred))\n",
    "report = precision_recall_fscore_support(y1, yPred)\n",
    "accuracy = accuracy_score(y1, yPred)\n",
    "\n",
    "print('\\nAccuracy: \\t ' + str(accuracy))"
   ]
  },
  {
   "cell_type": "markdown",
   "metadata": {},
   "source": [
    "## 1 f) Comparing the performance results"
   ]
  },
  {
   "cell_type": "markdown",
   "metadata": {
    "collapsed": true
   },
   "source": [
    "### Classification report of decision tree made in HW3 Q1"
   ]
  },
  {
   "cell_type": "code",
   "execution_count": 75,
   "metadata": {},
   "outputs": [
    {
     "data": {
      "image/png": "[encoded data removed]",
      "text/plain": [
       "<matplotlib.figure.Figure at 0x1a1c4354a8>"
      ]
     },
     "metadata": {},
     "output_type": "display_data"
    }
   ],
   "source": [
    "import matplotlib.pyplot as plt\n",
    "from PIL import Image\n",
    "%matplotlib inline\n",
    "import matplotlib.image as mpimg\n",
    "plt.figure(figsize=(12,8))\n",
    "img = mpimg.imread('/Users/user/Desktop/' +'Classification.png')\n",
    "plt.axis('off')\n",
    "plt.imshow(img)\n",
    "plt.show()"
   ]
  },
  {
   "cell_type": "markdown",
   "metadata": {},
   "source": [
    "## By Comparing Classification reports for both the models\n",
    "### Accuracy: We are getting same accuracy for both the models\n",
    "### Precision: Presion value for both the classes are better in Desicion tree model\n",
    "### Recall: Clustering has better recall value for class N but Decision tree has better recall value for class R"
   ]
  },
  {
   "cell_type": "markdown",
   "metadata": {},
   "source": [
    "# Question 2"
   ]
  },
  {
   "cell_type": "markdown",
   "metadata": {},
   "source": [
    "### Loading white and red wine data"
   ]
  },
  {
   "cell_type": "code",
   "execution_count": 258,
   "metadata": {
    "collapsed": true
   },
   "outputs": [],
   "source": [
    "dataWWQ = pd.read_csv('/Volumes/Work/study/U Cincinnati/IDA/assignments/Assign 3/winequality-white.csv')\n",
    "dataRWQ = pd.read_csv('/Volumes/Work/study/U Cincinnati/IDA/assignments/Assign 3/winequality-red.csv')"
   ]
  },
  {
   "cell_type": "markdown",
   "metadata": {},
   "source": [
    "### combining data "
   ]
  },
  {
   "cell_type": "code",
   "execution_count": 260,
   "metadata": {
    "collapsed": true
   },
   "outputs": [],
   "source": [
    "total_data = pd.concat([dataWWQ, dataRWQ], axis=0)"
   ]
  },
  {
   "cell_type": "code",
   "execution_count": 261,
   "metadata": {
    "collapsed": true
   },
   "outputs": [],
   "source": [
    "X2 = total_data.loc[:,'fixed acidity':'alcohol']\n",
    "y2 = total_data.loc[:,'quality']"
   ]
  },
  {
   "cell_type": "markdown",
   "metadata": {},
   "source": [
    "### Selecting minimum value of SSE for 3 run of each K "
   ]
  },
  {
   "cell_type": "code",
   "execution_count": 267,
   "metadata": {},
   "outputs": [
    {
     "name": "stdout",
     "output_type": "stream",
     "text": [
      "For K = 3 cluster centers:\n",
      "Minimum value of SSE is: \t4331571.93104\n",
      "\n",
      "For K = 4 cluster centers:\n",
      "Minimum value of SSE is: \t3038823.78057\n",
      "\n",
      "For K = 5 cluster centers:\n",
      "Minimum value of SSE is: \t2394092.53615\n",
      "\n",
      "For K = 6 cluster centers:\n",
      "Minimum value of SSE is: \t2041431.89344\n",
      "\n",
      "For K = 7 cluster centers:\n",
      "Minimum value of SSE is: \t1796413.82422\n",
      "\n",
      "For K = 8 cluster centers:\n",
      "Minimum value of SSE is: \t1623753.59344\n",
      "\n",
      "For K = 9 cluster centers:\n",
      "Minimum value of SSE is: \t1482987.44801\n",
      "\n",
      "For K = 10 cluster centers:\n",
      "Minimum value of SSE is: \t1367115.00678\n",
      "\n",
      "For K = 11 cluster centers:\n",
      "Minimum value of SSE is: \t1267254.37211\n",
      "\n",
      "For K = 12 cluster centers:\n",
      "Minimum value of SSE is: \t1161056.95271\n",
      "\n",
      "For K = 13 cluster centers:\n",
      "Minimum value of SSE is: \t1092122.46367\n",
      "\n",
      "For K = 14 cluster centers:\n",
      "Minimum value of SSE is: \t1023003.13077\n",
      "\n"
     ]
    }
   ],
   "source": [
    "k_values = [3, 4, 5, 6, 7, 8, 9, 10, 11, 12, 13, 14]\n",
    "SSE_values = []\n",
    "min_SSE= []\n",
    "for i in k_values:\n",
    "    print(\"For K = \" + str(i) + \" cluster centers:\")\n",
    "    for j in range(3):\n",
    "        clustering = KMeans(n_clusters=i, init='random').fit(X2,y2)\n",
    "        SSE = clustering.inertia_\n",
    "        SSE_values.append(SSE)\n",
    "        minSSE = min(SSE_values)\n",
    "    min_SSE.append(minSSE)\n",
    "    print(\"Minimum value of SSE is: \\t\"+ str(minSSE) + \"\\n\")    "
   ]
  },
  {
   "cell_type": "markdown",
   "metadata": {},
   "source": [
    "## Ploting SSE values"
   ]
  },
  {
   "cell_type": "code",
   "execution_count": 268,
   "metadata": {},
   "outputs": [
    {
     "data": {
      "image/png": "[encoded data removed]",
      "text/plain": [
       "<matplotlib.figure.Figure at 0x1a1db99518>"
      ]
     },
     "metadata": {},
     "output_type": "display_data"
    }
   ],
   "source": [
    "plt.figure(figsize = (8,6))\n",
    "plt.bar(np.arange(12),min_SSE)\n",
    "plt.xticks(np.arange(12), ['K=3', 'K=4', 'K=5', 'K=6', 'K=7', 'K=8', 'K=9', 'K=10', 'K=11', 'K=12', 'K=13', 'K=14'])\n",
    "plt.xlabel(\"K values\")\n",
    "plt.ylabel(\"SSE Values\")\n",
    "plt.title(\"SSE valus vs K values\")\n",
    "plt.show()"
   ]
  },
  {
   "cell_type": "markdown",
   "metadata": {
    "collapsed": true
   },
   "source": [
    "# Analysis: From the above graph it can be clearly infered that with the increase of k (no. of clusters) value of SSE(sum of square errors) decreases. \n",
    "## Reason: With the increases in k the number of clusters increases or the number of cluster centroids increses. And SSE is sum distances of each data point and when we increase the number of centroids, this distance decreases and hence, SSE decreases."
   ]
  },
  {
   "cell_type": "code",
   "execution_count": null,
   "metadata": {
    "collapsed": true
   },
   "outputs": [],
   "source": []
  }
 ],
 "metadata": {
  "kernelspec": {
   "display_name": "Python 3",
   "language": "python",
   "name": "python3"
  },
  "language_info": {
   "codemirror_mode": {
    "name": "ipython",
    "version": 3
   },
   "file_extension": ".py",
   "mimetype": "text/x-python",
   "name": "python",
   "nbconvert_exporter": "python",
   "pygments_lexer": "ipython3",
   "version": "3.6.4"
  }
 },
 "nbformat": 4,
 "nbformat_minor": 2
}
